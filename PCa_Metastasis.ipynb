{
 "cells": [
  {
   "cell_type": "code",
   "execution_count": 56,
   "metadata": {
    "collapsed": false,
    "scrolled": false
   },
   "outputs": [
    {
     "name": "stdout",
     "output_type": "stream",
     "text": [
      "Clinical data set imported\n",
      "\n",
      "\n",
      " The following features do not provide any information: \n",
      " ['Composite.Element.REF' 'ethnicity' 'gender' 'pathologicstage'\n",
      " 'pathologyMstage' 'tumortissuesite'] \n",
      "\n",
      "\n",
      "\n",
      " Variables that are not known at initial diagnosis: \n",
      " ['daystodeath' 'daystolastfollowup' 'daystopsa' 'histologicaltype'\n",
      " 'numberoflymphnodes' 'pathologyTstage' 'radiationtherapy' 'residualtumor'\n",
      " 'vitalstatus'] \n",
      "\n",
      "               dateofinitialpathologicdiagnosis gleasonscore psavalue   race  \\\n",
      "clinical_index                                                                 \n",
      "TCGA-CH-5753                               2008            9     4.53  white   \n",
      "TCGA-CH-5763                               2008            7      0.1  white   \n",
      "TCGA-CH-5764                               2008            7    13.95  white   \n",
      "TCGA-CH-5772                               2008            9     0.03  white   \n",
      "TCGA-CH-5790                               2006            7      0.1  white   \n",
      "\n",
      "               yearstobirth  \n",
      "clinical_index               \n",
      "TCGA-CH-5753             70  \n",
      "TCGA-CH-5763             66  \n",
      "TCGA-CH-5764             66  \n",
      "TCGA-CH-5772             63  \n",
      "TCGA-CH-5790             64  \n",
      "\n",
      "Dimensions of clinical dataframe: (499, 5)\n"
     ]
    }
   ],
   "source": [
    "%run Dataset_cleanup/cleanup_clinical.py"
   ]
  },
  {
   "cell_type": "code",
   "execution_count": 99,
   "metadata": {
    "collapsed": false
   },
   "outputs": [
    {
     "name": "stdout",
     "output_type": "stream",
     "text": [
      "Gene Counts data set imported\n",
      "\n",
      "Dimension of DataFrame: (550, 20501)\n",
      "\n",
      "Transformation Successful!\n",
      "\n",
      "Transcript abundance estimates have been transformed to transcripts per million reads\n"
     ]
    }
   ],
   "source": [
    "%run Dataset_cleanup/cleanup_gene_counts.py"
   ]
  },
  {
   "cell_type": "code",
   "execution_count": null,
   "metadata": {
    "collapsed": true
   },
   "outputs": [],
   "source": []
  }
 ],
 "metadata": {
  "kernelspec": {
   "display_name": "Python 3",
   "language": "python",
   "name": "python3"
  },
  "language_info": {
   "codemirror_mode": {
    "name": "ipython",
    "version": 3
   },
   "file_extension": ".py",
   "mimetype": "text/x-python",
   "name": "python",
   "nbconvert_exporter": "python",
   "pygments_lexer": "ipython3",
   "version": "3.5.1"
  }
 },
 "nbformat": 4,
 "nbformat_minor": 0
}
