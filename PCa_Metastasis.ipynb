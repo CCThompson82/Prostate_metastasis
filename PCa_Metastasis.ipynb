{
 "cells": [
  {
   "cell_type": "markdown",
   "metadata": {},
   "source": [
    "# Project Analysis NoteBook\n",
    "## Data Input\n",
    "\n",
    "The datasets used in this project are available from ['The Cancer Genome Atlas' (TCGA)](www.http://cancergenome.nih.gov/) consortium.  Clinical and RNA-seq gene count data sets can be downloaded via a provided data portal, or using an R package called [TCGA2STAT](https://cran.r-project.org/web/packages/TCGA2STAT/index.html).  The R script used to download the data sets for this project are available in the local repository for this project ([GitHub link](https://github.com/CCThompson82/Prostate_metastasis/tree/master/Dataset_setup)).  If run locally, two [feather](https://github.com/wesm/feather) files will be written to the working directory, which will be read and imported with the python scripts below."
   ]
  },
  {
   "cell_type": "code",
   "execution_count": 1,
   "metadata": {
    "collapsed": false,
    "scrolled": true
   },
   "outputs": [
    {
     "name": "stdout",
     "output_type": "stream",
     "text": [
      "Clinical data set imported!\n",
      "Features: 21 \n",
      "Patients: 499\n",
      "\n",
      " The following features do not provide any information: \n",
      " ['Composite.Element.REF' 'ethnicity' 'gender' 'pathologicstage'\n",
      " 'pathologyMstage' 'tumortissuesite'] \n",
      "\n",
      "Variables that are not known at initial diagnosis: \n",
      " ['daystodeath' 'daystolastfollowup' 'daystopsa' 'histologicaltype'\n",
      " 'numberoflymphnodes' 'pathologyTstage' 'radiationtherapy' 'residualtumor'\n",
      " 'vitalstatus'] \n",
      "\n",
      "Variables that are known at the time of diagnosis:\n",
      " ['clinical_index' 'dateofinitialpathologicdiagnosis' 'gleasonscore'\n",
      " 'pathologyNstage' 'psavalue' 'race' 'yearstobirth']\n",
      "\n",
      "\n",
      "Gene Counts data set imported!\n",
      "Features: 20501 \n",
      "Patients: 497\n",
      "\n",
      "\n",
      "Transforming gene counts to transcript per million (TPM)\n",
      "\n",
      "Transformation Successful!\n",
      "\n",
      "497 Gene count estimate profiles have been transformed from gene counts to transcripts per million reads (TPM)\n"
     ]
    }
   ],
   "source": [
    "%run -i Dataset_cleanup/arrange_DF.py"
   ]
  },
  {
   "cell_type": "markdown",
   "metadata": {},
   "source": [
    "## Data Exploration\n",
    "### Clinical Information - including metastasis label\n",
    "There is missing clinical data in many of the features, including what will become the outcome label ('pathologyNstage' - metastasis state).  The series **'y_all'** is the full list of pathologyNstage, where 'n1' represents metastasis, and 'n0' represents no metastasis observed to date.  Some observations have no metastasis state recorded and are represented by NaN in y_all.  These are removed for the trimmed **'y'** series.  "
   ]
  },
  {
   "cell_type": "code",
   "execution_count": 2,
   "metadata": {
    "collapsed": false
   },
   "outputs": [
    {
     "name": "stdout",
     "output_type": "stream",
     "text": [
      "Total observations in original dataset: 499\n",
      "\n",
      "Observations with metastasis label: 426\n",
      "Unlabeled observations (removed:) 73\n"
     ]
    }
   ],
   "source": [
    "print(\"Total observations in original dataset:\",clinical.shape[0])\n",
    "\n",
    "not_labeled = y_all[y_all.isnull()] \n",
    "y = y_all[y_all.notnull()]\n",
    "\n",
    "print(\"\\nObservations with metastasis label:\",y.shape[0])\n",
    "print(\"Unlabeled observations (removed:)\",not_labeled.shape[0])\n"
   ]
  },
  {
   "cell_type": "code",
   "execution_count": 3,
   "metadata": {
    "collapsed": true
   },
   "outputs": [],
   "source": [
    "import matplotlib.pyplot as plt\n",
    "%matplotlib inline"
   ]
  },
  {
   "cell_type": "code",
   "execution_count": 4,
   "metadata": {
    "collapsed": false
   },
   "outputs": [
    {
     "data": {
      "image/png": "[encoded data removed]",
      "text/plain": [
       "<matplotlib.figure.Figure at 0x112ed1d30>"
      ]
     },
     "metadata": {},
     "output_type": "display_data"
    }
   ],
   "source": [
    "D = (('n0', y[y =='n0'].shape[0]), \n",
    "     ('n1', y[y =='n1'].shape[0]), \n",
    "     ('missing' , len(not_labeled)))\n",
    "exp_fig = plt.figure(figsize=(10,5))\n",
    "A = exp_fig.add_subplot(1,1,1)\n",
    "ind = A.bar(range(0,3), height= [D[0][1], D[1][1], D[2][1]], align='center', color = 'grey')\n",
    "A.set_xticks(range(0,3))\n",
    "A.set_ylabel('Frequency', fontsize=16)\n",
    "A.set_xlabel('Metastasis state', fontsize=16)\n",
    "A.set_ylim(0,400)\n",
    "A.set_xticklabels([D[0][0], D[1][0], D[2][0]])  #Must be a better way to do this...\n",
    "ep = plt.show"
   ]
  },
  {
   "cell_type": "markdown",
   "metadata": {},
   "source": [
    "#### Gene Activation (Gene counts) Dataset\n",
    "The starting dataset, **'X_all'**, includes the transformed transcript per million (TPM) estimates for all RNA-seq profiles.  However some of the observations in this set do not have corresponding y_labels, as the clinical data set contains missing information.\n",
    "\n",
    "Therefore X_all was trimmed to include only those observations where a finite y label exists, to yield **'X'**.  "
   ]
  },
  {
   "cell_type": "code",
   "execution_count": 5,
   "metadata": {
    "collapsed": false
   },
   "outputs": [
    {
     "name": "stdout",
     "output_type": "stream",
     "text": [
      "X dimensions: (424, 20501) \n",
      "y dimensions: (424,)\n"
     ]
    }
   ],
   "source": [
    "\"\"\"Limit X to only observations where a target label is present.\"\"\"\n",
    "X = X_all.loc[set(y.index).intersection(X_all.index)]  #Only observations that also have a known metastasis state are kept.\n",
    "y = y.loc[set(X.index).intersection(y.index)]\n",
    "print(\"X dimensions:\",X.shape,\"\\ny dimensions:\",y.shape)"
   ]
  },
  {
   "cell_type": "code",
   "execution_count": 6,
   "metadata": {
    "collapsed": false
   },
   "outputs": [
    {
     "name": "stdout",
     "output_type": "stream",
     "text": [
      "Dimensions of unlabeled dataset: (73, 20501)\n"
     ]
    }
   ],
   "source": [
    "X_no_y = X_all.loc[list(not_labeled.index)]\n",
    "print(\"Dimensions of unlabeled dataset:\",X_no_y.shape)"
   ]
  },
  {
   "cell_type": "code",
   "execution_count": 7,
   "metadata": {
    "collapsed": false,
    "scrolled": true
   },
   "outputs": [
    {
     "data": {
      "text/plain": [
       "False"
      ]
     },
     "execution_count": 7,
     "metadata": {},
     "output_type": "execute_result"
    }
   ],
   "source": [
    "X.isnull().values.any()"
   ]
  },
  {
   "cell_type": "markdown",
   "metadata": {},
   "source": [
    "### Exploratory Visualization"
   ]
  },
  {
   "cell_type": "markdown",
   "metadata": {},
   "source": [
    "#### Gleason Score versus Metastasis analysis\n",
    "The Gleason score is the gold-standard diagnostic test for cancer severity, but is not highly correlative with metastatic disease.  "
   ]
  },
  {
   "cell_type": "code",
   "execution_count": 8,
   "metadata": {
    "collapsed": false
   },
   "outputs": [
    {
     "data": {
      "text/plain": [
       "False"
      ]
     },
     "execution_count": 8,
     "metadata": {},
     "output_type": "execute_result"
    }
   ],
   "source": [
    "clinical['gleasonscore'] = pd.to_numeric(clinical['gleasonscore'], errors= 'coerce')\n",
    "clinical['gleasonscore'].isnull().any()"
   ]
  },
  {
   "cell_type": "code",
   "execution_count": 9,
   "metadata": {
    "collapsed": false
   },
   "outputs": [
    {
     "data": {
      "text/plain": [
       "<function matplotlib.pyplot.show>"
      ]
     },
     "execution_count": 9,
     "metadata": {},
     "output_type": "execute_result"
    },
    {
     "data": {
      "image/png": "[encoded data removed]",
      "text/plain": [
       "<matplotlib.figure.Figure at 0x115d04668>"
      ]
     },
     "metadata": {},
     "output_type": "display_data"
    }
   ],
   "source": [
    "GS_hist = plt.figure(figsize=(8,8))\n",
    "A = GS_hist.add_subplot(1,1,1)\n",
    "sub = (('n1', ))\n",
    "\n",
    "subs = [clinical.loc[y_all[y_all == 'n0'].index]['gleasonscore'],\n",
    "        clinical.loc[y_all[y_all == 'n1'].index]['gleasonscore'],\n",
    "        clinical.loc[y_all[y_all.isnull()].index]['gleasonscore']]\n",
    "\n",
    "bins = [5.99, 6.99, 7.99, 8.99, 9.99, 10.99]\n",
    "A.hist(subs, bins, label =['n0', 'n1', 'unknown'], color = ['blue','red','grey'], stacked = True)\n",
    "A.set_ylim(0,275)\n",
    "A.set_ylabel('Count', fontsize=16)\n",
    "A.set_xlabel('Gleason Score', fontsize =16)\n",
    "A.legend()\n",
    "plt.show"
   ]
  },
  {
   "cell_type": "code",
   "execution_count": null,
   "metadata": {
    "collapsed": true
   },
   "outputs": [],
   "source": []
  },
  {
   "cell_type": "code",
   "execution_count": null,
   "metadata": {
    "collapsed": true
   },
   "outputs": [],
   "source": []
  },
  {
   "cell_type": "markdown",
   "metadata": {},
   "source": [
    "### Test Train Split"
   ]
  },
  {
   "cell_type": "code",
   "execution_count": 10,
   "metadata": {
    "collapsed": false
   },
   "outputs": [],
   "source": [
    "from sklearn.model_selection import train_test_split\n"
   ]
  },
  {
   "cell_type": "code",
   "execution_count": 11,
   "metadata": {
    "collapsed": false
   },
   "outputs": [],
   "source": [
    "train_k = round(len(y)*0.66)\n",
    "test_k = len(y) - train_k"
   ]
  },
  {
   "cell_type": "code",
   "execution_count": 12,
   "metadata": {
    "collapsed": false
   },
   "outputs": [],
   "source": [
    "seed = 123\n",
    "X_train, X_test, y_train, y_test = train_test_split(X, y, \n",
    "                                                    test_size= test_k, \n",
    "                                                    train_size = train_k,\n",
    "                                                    random_state = seed,\n",
    "                                                    stratify = y)"
   ]
  },
  {
   "cell_type": "markdown",
   "metadata": {},
   "source": [
    "## Managing missing labels"
   ]
  },
  {
   "cell_type": "code",
   "execution_count": 13,
   "metadata": {
    "collapsed": false
   },
   "outputs": [
    {
     "name": "stdout",
     "output_type": "stream",
     "text": [
      "(499, 5)\n",
      "(499,)\n"
     ]
    }
   ],
   "source": [
    "print(clinical.shape)\n",
    "print(y_all.shape)"
   ]
  },
  {
   "cell_type": "code",
   "execution_count": 14,
   "metadata": {
    "collapsed": false
   },
   "outputs": [],
   "source": [
    "targets = list(set(clinical.loc[clinical['gleasonscore']== 6, :].index).intersection(y_all.loc[y_all.isnull()].index))"
   ]
  },
  {
   "cell_type": "code",
   "execution_count": 15,
   "metadata": {
    "collapsed": false
   },
   "outputs": [
    {
     "name": "stdout",
     "output_type": "stream",
     "text": [
      "(280, 20501)\n",
      "(302, 20501)\n"
     ]
    }
   ],
   "source": [
    "print(X_train.shape)\n",
    "X_train = X_train.append(X_all.loc[targets])\n",
    "print(X_train.shape)"
   ]
  },
  {
   "cell_type": "code",
   "execution_count": 16,
   "metadata": {
    "collapsed": false
   },
   "outputs": [
    {
     "name": "stdout",
     "output_type": "stream",
     "text": [
      "(280,)\n",
      "(302,)\n"
     ]
    }
   ],
   "source": [
    "print(y_train.shape)\n",
    "y_train = y_train.append(y_all.loc[targets])\n",
    "print(y_train.shape)"
   ]
  },
  {
   "cell_type": "code",
   "execution_count": 17,
   "metadata": {
    "collapsed": false
   },
   "outputs": [],
   "source": [
    "y_train.loc[y_train.isnull()] = 'n0'"
   ]
  },
  {
   "cell_type": "code",
   "execution_count": 18,
   "metadata": {
    "collapsed": false
   },
   "outputs": [
    {
     "data": {
      "text/plain": [
       "0"
      ]
     },
     "execution_count": 18,
     "metadata": {},
     "output_type": "execute_result"
    }
   ],
   "source": [
    "sum(y_train.isnull())"
   ]
  },
  {
   "cell_type": "code",
   "execution_count": 19,
   "metadata": {
    "collapsed": false
   },
   "outputs": [],
   "source": [
    "X_train = X_train.reindex(np.random.permutation(X_train.index))\n",
    "y_train = y_train.reindex(X_train.index)"
   ]
  },
  {
   "cell_type": "markdown",
   "metadata": {},
   "source": [
    "### Benchmark \n",
    "#### Determine the Null Error / Accuracy Rates for Prediction\n",
    "As the dataset is unbalanced, knowledge of the null rate - i.e. the performance measure given if a model were to predict the positive label indiscriminantly - is an important benchmark upon which to improve.  "
   ]
  },
  {
   "cell_type": "code",
   "execution_count": 20,
   "metadata": {
    "collapsed": false
   },
   "outputs": [],
   "source": [
    "from sklearn.metrics import matthews_corrcoef, fbeta_score, classification_report\n",
    "from sklearn.model_selection import cross_val_score"
   ]
  },
  {
   "cell_type": "code",
   "execution_count": 21,
   "metadata": {
    "collapsed": false
   },
   "outputs": [],
   "source": [
    "\"\"\"Scorers needed throughout code:\"\"\"\n",
    "from sklearn.metrics import make_scorer\n",
    "MCC_scorer = make_scorer(matthews_corrcoef, greater_is_better=True, needs_proba=False, needs_threshold=False)\n",
    "fbeta_scorer = make_scorer(fbeta_score, greater_is_better=True, needs_proba=False, needs_threshold=False, pos_label='n1', beta = 2)"
   ]
  },
  {
   "cell_type": "code",
   "execution_count": 22,
   "metadata": {
    "collapsed": false,
    "scrolled": true
   },
   "outputs": [
    {
     "name": "stdout",
     "output_type": "stream",
     "text": [
      "Model predicts indiscriminantly, \"n1\"\n",
      "\n",
      "Null F beta:  0.533783783784\n",
      "\n",
      "MCC:  0.0 \n",
      "\n",
      "             precision    recall  f1-score   support\n",
      "\n",
      "         n0       0.00      0.00      0.00       345\n",
      "         n1       0.19      1.00      0.31        79\n",
      "\n",
      "avg / total       0.03      0.19      0.06       424\n",
      "\n"
     ]
    },
    {
     "name": "stderr",
     "output_type": "stream",
     "text": [
      "/Users/ccthomps/anaconda/lib/python3.5/site-packages/sklearn/metrics/classification.py:1122: UndefinedMetricWarning: Precision and F-score are ill-defined and being set to 0.0 in labels with no predicted samples.\n",
      "  'precision', 'predicted', average, warn_for)\n"
     ]
    }
   ],
   "source": [
    "y_n1 = ['n1']*len(y)\n",
    "print('Model predicts indiscriminantly, \"n1\"')\n",
    "print('\\nNull F beta: ', fbeta_score(y, y_n1, pos_label='n1',beta=2))\n",
    "print('\\nMCC: ',matthews_corrcoef(y, y_n1),\"\\n\")\n",
    "print(classification_report(y, y_n1, labels = ['n0','n1']))\n"
   ]
  },
  {
   "cell_type": "code",
   "execution_count": 23,
   "metadata": {
    "collapsed": true
   },
   "outputs": [],
   "source": [
    "from sklearn.linear_model import LogisticRegression\n",
    "from sklearn.model_selection import GridSearchCV"
   ]
  },
  {
   "cell_type": "code",
   "execution_count": 24,
   "metadata": {
    "collapsed": false
   },
   "outputs": [
    {
     "data": {
      "image/png": "[encoded data removed]",
      "text/plain": [
       "<matplotlib.figure.Figure at 0x132c8e7b8>"
      ]
     },
     "metadata": {},
     "output_type": "display_data"
    }
   ],
   "source": [
    "gleason = clinical['gleasonscore']\n",
    "age = pd.to_numeric(clinical['yearstobirth'], errors = 'coerce')\n",
    "age.fillna(value = np.mean(age), inplace=True)\n",
    "psa = pd.to_numeric(clinical['psavalue'], errors= 'coerce')\n",
    "psa.fillna(value = np.mean(psa), inplace =True)\n",
    "gleason = gleason.loc[y.index]\n",
    "\n",
    "benchmarkDF = pd.DataFrame({'gleason': gleason,\n",
    "                            'age':age ,\n",
    "                            'psa' : psa,\n",
    "                            'y' : y}, index=X.index)\n",
    "\n",
    "sm = pd.scatter_matrix(benchmarkDF, \n",
    "                       alpha=0.4, \n",
    "                       figsize= (8,8), \n",
    "                       diagonal = 'kde', \n",
    "                       c = benchmarkDF['y'].replace({'n1': 'red','n0':'blue'}), \n",
    "                       s = 100)"
   ]
  },
  {
   "cell_type": "code",
   "execution_count": 25,
   "metadata": {
    "collapsed": false
   },
   "outputs": [],
   "source": [
    "benchmarkDF.drop(['y'], axis=1, inplace = True)\n"
   ]
  },
  {
   "cell_type": "code",
   "execution_count": 26,
   "metadata": {
    "collapsed": false
   },
   "outputs": [],
   "source": [
    "benchmarkDF = benchmarkDF.reindex(y.index)"
   ]
  },
  {
   "cell_type": "code",
   "execution_count": 27,
   "metadata": {
    "collapsed": false
   },
   "outputs": [
    {
     "ename": "TypeError",
     "evalue": "unorderable types: str() > float()",
     "output_type": "error",
     "traceback": [
      "\u001b[0;31m---------------------------------------------------------------------------\u001b[0m",
      "\u001b[0;31mTypeError\u001b[0m                                 Traceback (most recent call last)",
      "\u001b[0;32m/Users/ccthomps/Documents/Python Files/Udacity Projects/capstone/Dataset_cleanup/arrange_DF.py\u001b[0m in \u001b[0;36m<module>\u001b[0;34m()\u001b[0m\n\u001b[1;32m     26\u001b[0m                    error_score='raise')\n\u001b[1;32m     27\u001b[0m \u001b[0;34m\u001b[0m\u001b[0m\n\u001b[0;32m---> 28\u001b[0;31m \u001b[0mclf\u001b[0m\u001b[0;34m.\u001b[0m\u001b[0mfit\u001b[0m\u001b[0;34m(\u001b[0m\u001b[0mbenchmarkDF\u001b[0m\u001b[0;34m.\u001b[0m\u001b[0mloc\u001b[0m\u001b[0;34m[\u001b[0m\u001b[0mX_train\u001b[0m\u001b[0;34m.\u001b[0m\u001b[0mindex\u001b[0m\u001b[0;34m,\u001b[0m \u001b[0;34m:\u001b[0m\u001b[0;34m]\u001b[0m\u001b[0;34m,\u001b[0m \u001b[0my_train\u001b[0m\u001b[0;34m)\u001b[0m\u001b[0;34m\u001b[0m\u001b[0m\n\u001b[0m\u001b[1;32m     29\u001b[0m \u001b[0;34m\u001b[0m\u001b[0m\n\u001b[1;32m     30\u001b[0m \u001b[0mclf_LR\u001b[0m \u001b[0;34m=\u001b[0m \u001b[0mclf\u001b[0m\u001b[0;34m.\u001b[0m\u001b[0mbest_estimator_\u001b[0m\u001b[0;34m\u001b[0m\u001b[0m\n",
      "\u001b[0;32m/Users/ccthomps/anaconda/lib/python3.5/site-packages/sklearn/model_selection/_search.py\u001b[0m in \u001b[0;36mfit\u001b[0;34m(self, X, y, labels)\u001b[0m\n\u001b[1;32m    791\u001b[0m             \u001b[0mtrain\u001b[0m\u001b[0;34m/\u001b[0m\u001b[0mtest\u001b[0m \u001b[0mset\u001b[0m\u001b[0;34m.\u001b[0m\u001b[0;34m\u001b[0m\u001b[0m\n\u001b[1;32m    792\u001b[0m         \"\"\"\n\u001b[0;32m--> 793\u001b[0;31m         \u001b[0;32mreturn\u001b[0m \u001b[0mself\u001b[0m\u001b[0;34m.\u001b[0m\u001b[0m_fit\u001b[0m\u001b[0;34m(\u001b[0m\u001b[0mX\u001b[0m\u001b[0;34m,\u001b[0m \u001b[0my\u001b[0m\u001b[0;34m,\u001b[0m \u001b[0mlabels\u001b[0m\u001b[0;34m,\u001b[0m \u001b[0mParameterGrid\u001b[0m\u001b[0;34m(\u001b[0m\u001b[0mself\u001b[0m\u001b[0;34m.\u001b[0m\u001b[0mparam_grid\u001b[0m\u001b[0;34m)\u001b[0m\u001b[0;34m)\u001b[0m\u001b[0;34m\u001b[0m\u001b[0m\n\u001b[0m\u001b[1;32m    794\u001b[0m \u001b[0;34m\u001b[0m\u001b[0m\n\u001b[1;32m    795\u001b[0m \u001b[0;34m\u001b[0m\u001b[0m\n",
      "\u001b[0;32m/Users/ccthomps/anaconda/lib/python3.5/site-packages/sklearn/model_selection/_search.py\u001b[0m in \u001b[0;36m_fit\u001b[0;34m(self, X, y, labels, parameter_iterable)\u001b[0m\n\u001b[1;32m    511\u001b[0m \u001b[0;34m\u001b[0m\u001b[0m\n\u001b[1;32m    512\u001b[0m         \u001b[0mestimator\u001b[0m \u001b[0;34m=\u001b[0m \u001b[0mself\u001b[0m\u001b[0;34m.\u001b[0m\u001b[0mestimator\u001b[0m\u001b[0;34m\u001b[0m\u001b[0m\n\u001b[0;32m--> 513\u001b[0;31m         \u001b[0mcv\u001b[0m \u001b[0;34m=\u001b[0m \u001b[0mcheck_cv\u001b[0m\u001b[0;34m(\u001b[0m\u001b[0mself\u001b[0m\u001b[0;34m.\u001b[0m\u001b[0mcv\u001b[0m\u001b[0;34m,\u001b[0m \u001b[0my\u001b[0m\u001b[0;34m,\u001b[0m \u001b[0mclassifier\u001b[0m\u001b[0;34m=\u001b[0m\u001b[0mis_classifier\u001b[0m\u001b[0;34m(\u001b[0m\u001b[0mestimator\u001b[0m\u001b[0;34m)\u001b[0m\u001b[0;34m)\u001b[0m\u001b[0;34m\u001b[0m\u001b[0m\n\u001b[0m\u001b[1;32m    514\u001b[0m         \u001b[0mself\u001b[0m\u001b[0;34m.\u001b[0m\u001b[0mscorer_\u001b[0m \u001b[0;34m=\u001b[0m \u001b[0mcheck_scoring\u001b[0m\u001b[0;34m(\u001b[0m\u001b[0mself\u001b[0m\u001b[0;34m.\u001b[0m\u001b[0mestimator\u001b[0m\u001b[0;34m,\u001b[0m \u001b[0mscoring\u001b[0m\u001b[0;34m=\u001b[0m\u001b[0mself\u001b[0m\u001b[0;34m.\u001b[0m\u001b[0mscoring\u001b[0m\u001b[0;34m)\u001b[0m\u001b[0;34m\u001b[0m\u001b[0m\n\u001b[1;32m    515\u001b[0m \u001b[0;34m\u001b[0m\u001b[0m\n",
      "\u001b[0;32m/Users/ccthomps/anaconda/lib/python3.5/site-packages/sklearn/model_selection/_split.py\u001b[0m in \u001b[0;36mcheck_cv\u001b[0;34m(cv, y, classifier)\u001b[0m\n\u001b[1;32m   1410\u001b[0m     \u001b[0;32mif\u001b[0m \u001b[0misinstance\u001b[0m\u001b[0;34m(\u001b[0m\u001b[0mcv\u001b[0m\u001b[0;34m,\u001b[0m \u001b[0mnumbers\u001b[0m\u001b[0;34m.\u001b[0m\u001b[0mIntegral\u001b[0m\u001b[0;34m)\u001b[0m\u001b[0;34m:\u001b[0m\u001b[0;34m\u001b[0m\u001b[0m\n\u001b[1;32m   1411\u001b[0m         if (classifier and (y is not None) and\n\u001b[0;32m-> 1412\u001b[0;31m                 (type_of_target(y) in ('binary', 'multiclass'))):\n\u001b[0m\u001b[1;32m   1413\u001b[0m             \u001b[0;32mreturn\u001b[0m \u001b[0mStratifiedKFold\u001b[0m\u001b[0;34m(\u001b[0m\u001b[0mcv\u001b[0m\u001b[0;34m)\u001b[0m\u001b[0;34m\u001b[0m\u001b[0m\n\u001b[1;32m   1414\u001b[0m         \u001b[0;32melse\u001b[0m\u001b[0;34m:\u001b[0m\u001b[0;34m\u001b[0m\u001b[0m\n",
      "\u001b[0;32m/Users/ccthomps/anaconda/lib/python3.5/site-packages/sklearn/utils/multiclass.py\u001b[0m in \u001b[0;36mtype_of_target\u001b[0;34m(y)\u001b[0m\n\u001b[1;32m    274\u001b[0m         \u001b[0;32mreturn\u001b[0m \u001b[0;34m'continuous'\u001b[0m \u001b[0;34m+\u001b[0m \u001b[0msuffix\u001b[0m\u001b[0;34m\u001b[0m\u001b[0m\n\u001b[1;32m    275\u001b[0m \u001b[0;34m\u001b[0m\u001b[0m\n\u001b[0;32m--> 276\u001b[0;31m     \u001b[0;32mif\u001b[0m \u001b[0;34m(\u001b[0m\u001b[0mlen\u001b[0m\u001b[0;34m(\u001b[0m\u001b[0mnp\u001b[0m\u001b[0;34m.\u001b[0m\u001b[0munique\u001b[0m\u001b[0;34m(\u001b[0m\u001b[0my\u001b[0m\u001b[0;34m)\u001b[0m\u001b[0;34m)\u001b[0m \u001b[0;34m>\u001b[0m \u001b[0;36m2\u001b[0m\u001b[0;34m)\u001b[0m \u001b[0;32mor\u001b[0m \u001b[0;34m(\u001b[0m\u001b[0my\u001b[0m\u001b[0;34m.\u001b[0m\u001b[0mndim\u001b[0m \u001b[0;34m>=\u001b[0m \u001b[0;36m2\u001b[0m \u001b[0;32mand\u001b[0m \u001b[0mlen\u001b[0m\u001b[0;34m(\u001b[0m\u001b[0my\u001b[0m\u001b[0;34m[\u001b[0m\u001b[0;36m0\u001b[0m\u001b[0;34m]\u001b[0m\u001b[0;34m)\u001b[0m \u001b[0;34m>\u001b[0m \u001b[0;36m1\u001b[0m\u001b[0;34m)\u001b[0m\u001b[0;34m:\u001b[0m\u001b[0;34m\u001b[0m\u001b[0m\n\u001b[0m\u001b[1;32m    277\u001b[0m         \u001b[0;32mreturn\u001b[0m \u001b[0;34m'multiclass'\u001b[0m \u001b[0;34m+\u001b[0m \u001b[0msuffix\u001b[0m  \u001b[0;31m# [1, 2, 3] or [[1., 2., 3]] or [[1, 2]]\u001b[0m\u001b[0;34m\u001b[0m\u001b[0m\n\u001b[1;32m    278\u001b[0m     \u001b[0;32melse\u001b[0m\u001b[0;34m:\u001b[0m\u001b[0;34m\u001b[0m\u001b[0m\n",
      "\u001b[0;32m/Users/ccthomps/anaconda/lib/python3.5/site-packages/numpy/lib/arraysetops.py\u001b[0m in \u001b[0;36munique\u001b[0;34m(ar, return_index, return_inverse, return_counts)\u001b[0m\n\u001b[1;32m    196\u001b[0m         \u001b[0maux\u001b[0m \u001b[0;34m=\u001b[0m \u001b[0mar\u001b[0m\u001b[0;34m[\u001b[0m\u001b[0mperm\u001b[0m\u001b[0;34m]\u001b[0m\u001b[0;34m\u001b[0m\u001b[0m\n\u001b[1;32m    197\u001b[0m     \u001b[0;32melse\u001b[0m\u001b[0;34m:\u001b[0m\u001b[0;34m\u001b[0m\u001b[0m\n\u001b[0;32m--> 198\u001b[0;31m         \u001b[0mar\u001b[0m\u001b[0;34m.\u001b[0m\u001b[0msort\u001b[0m\u001b[0;34m(\u001b[0m\u001b[0;34m)\u001b[0m\u001b[0;34m\u001b[0m\u001b[0m\n\u001b[0m\u001b[1;32m    199\u001b[0m         \u001b[0maux\u001b[0m \u001b[0;34m=\u001b[0m \u001b[0mar\u001b[0m\u001b[0;34m\u001b[0m\u001b[0m\n\u001b[1;32m    200\u001b[0m     \u001b[0mflag\u001b[0m \u001b[0;34m=\u001b[0m \u001b[0mnp\u001b[0m\u001b[0;34m.\u001b[0m\u001b[0mconcatenate\u001b[0m\u001b[0;34m(\u001b[0m\u001b[0;34m(\u001b[0m\u001b[0;34m[\u001b[0m\u001b[0;32mTrue\u001b[0m\u001b[0;34m]\u001b[0m\u001b[0;34m,\u001b[0m \u001b[0maux\u001b[0m\u001b[0;34m[\u001b[0m\u001b[0;36m1\u001b[0m\u001b[0;34m:\u001b[0m\u001b[0;34m]\u001b[0m \u001b[0;34m!=\u001b[0m \u001b[0maux\u001b[0m\u001b[0;34m[\u001b[0m\u001b[0;34m:\u001b[0m\u001b[0;34m-\u001b[0m\u001b[0;36m1\u001b[0m\u001b[0;34m]\u001b[0m\u001b[0;34m)\u001b[0m\u001b[0;34m)\u001b[0m\u001b[0;34m\u001b[0m\u001b[0m\n",
      "\u001b[0;31mTypeError\u001b[0m: unorderable types: str() > float()"
     ]
    }
   ],
   "source": [
    "estimator = LogisticRegression(penalty='l2',\n",
    "                              dual=False,\n",
    "                              tol=0.0001,\n",
    "                              C=1,\n",
    "                              fit_intercept=True,\n",
    "                              intercept_scaling=1,\n",
    "                              class_weight='balanced',\n",
    "                              random_state=123,\n",
    "                              solver='liblinear',\n",
    "                              max_iter=100,\n",
    "                              multi_class='ovr',\n",
    "                              verbose=0,\n",
    "                              warm_start=False,\n",
    "                              n_jobs=1)\n",
    "\n",
    "clf = GridSearchCV(estimator,\n",
    "                   param_grid = {'C': [1,0.1, 0.01]},\n",
    "                   scoring=fbeta_scorer,\n",
    "                   fit_params=None,\n",
    "                   n_jobs=1,\n",
    "                   iid=True,\n",
    "                   refit=True,\n",
    "                   cv= 5,\n",
    "                   verbose=0,\n",
    "                   pre_dispatch='2*n_jobs',\n",
    "                   error_score='raise')\n",
    "\n",
    "clf.fit(benchmarkDF.loc[X_train.index, :], y_train)\n",
    "\n",
    "clf_LR = clf.best_estimator_\n",
    "\n",
    "bench_fig = plt.figure(figsize=(15,5))\n",
    "A= bench_fig.add_subplot(1,2,1)\n",
    "B = bench_fig.add_subplot(1,2,2)\n",
    "A.scatter(benchmarkDF['age'], clf_LR.predict_proba(benchmarkDF)[:,1], \n",
    "          color = y.replace({'n1':'red', 'n0': 'blue', 'NaN':'grey'}),\n",
    "          alpha = 0.3,\n",
    "          s = 25)\n",
    "A.set_ylabel('Benchmark Logistic Regression Prediction')\n",
    "A.set_xlabel('Age')\n",
    "plt.suptitle('Prognosis of metastasis risk based on features available at presentation', fontsize=20)\n",
    "\n",
    "groups = [clf_LR.predict_proba(benchmarkDF.loc[y[y=='n1'].index, :])[:,1], \n",
    "          clf_LR.predict_proba(benchmarkDF.loc[y[y=='n0'].index, :])[:,1]]\n",
    "bins = np.arange(0,1,0.05)\n",
    "B.hist(groups, label =['n1', 'n0'],  bins = bins, color = ['red','blue'], stacked = True)\n",
    "B.set_xlabel('Probability of Metastasis')\n",
    "B.set_ylabel('Bin Count')\n",
    "A.set_ylim(0,1)\n",
    "B.legend()\n",
    "#bench_fig.title(\"Prediction of Metastasis\")\n",
    "plt.show"
   ]
  },
  {
   "cell_type": "code",
   "execution_count": null,
   "metadata": {
    "collapsed": false
   },
   "outputs": [],
   "source": [
    "\"Benchmark Performance on Test dataset\"\n",
    "print(clf_LR)\n",
    "print('\\nNull F beta: ', fbeta_score(y_test, clf_LR.predict(benchmarkDF.loc[y_test.index, :]), pos_label='n1',beta=2))\n",
    "print('\\nMCC: ',matthews_corrcoef(y_test, clf_LR.predict(benchmarkDF.loc[y_test.index, :])),\"\\n\")\n",
    "print(classification_report(y_test, clf_LR.predict(benchmarkDF.loc[y_test.index, :]), labels = ['n0','n1']))\n"
   ]
  },
  {
   "cell_type": "markdown",
   "metadata": {
    "collapsed": false
   },
   "source": [
    "## Feature Reduction\n",
    "### Univariate Feature that separate data labels\n",
    "\n",
    "SelectKBest is a filtering function that utilizes a scoring function to filter a data set to the features that exhibit statistical difference when broken into class (metastasis state in this case).  This is a useful first step to remove all gene expression data where little difference in expression is observed between the two classes, as well as genes which are not expressed in either class, etc.  "
   ]
  },
  {
   "cell_type": "code",
   "execution_count": null,
   "metadata": {
    "collapsed": false
   },
   "outputs": [],
   "source": [
    "from sklearn.feature_selection import SelectKBest, f_classif"
   ]
  },
  {
   "cell_type": "code",
   "execution_count": null,
   "metadata": {
    "collapsed": false,
    "scrolled": true
   },
   "outputs": [],
   "source": [
    "K_selector = SelectKBest(f_classif, k = 'all') # using k=all here and will filter based on F-stat later.  \n",
    "K = K_selector.fit(X_train, y_train)"
   ]
  },
  {
   "cell_type": "code",
   "execution_count": null,
   "metadata": {
    "collapsed": false
   },
   "outputs": [],
   "source": [
    "K_df = pd.DataFrame({'Gene':X.columns, 'F_score':K.scores_})\n",
    "K_df.dropna(inplace=True)"
   ]
  },
  {
   "cell_type": "code",
   "execution_count": null,
   "metadata": {
    "collapsed": false
   },
   "outputs": [],
   "source": [
    "F_fig = plt.figure(figsize=(15,5))\n",
    "A = F_fig.add_subplot(1,1,1)\n",
    "A.hist(K_df['F_score'], bins=range(0,45,1), facecolor='green')\n",
    "A.set_yscale('log')\n",
    "A.set_ylabel('Count', fontsize=16)\n",
    "A.set_xlabel(\"F-statistic for 'n1' versus 'n0' comparison\", fontsize=16)\n",
    "plt.show"
   ]
  },
  {
   "cell_type": "markdown",
   "metadata": {},
   "source": [
    "## Scaling of Gene Count Data"
   ]
  },
  {
   "cell_type": "code",
   "execution_count": null,
   "metadata": {
    "collapsed": true
   },
   "outputs": [],
   "source": [
    "from sklearn.preprocessing import scale"
   ]
  },
  {
   "cell_type": "code",
   "execution_count": null,
   "metadata": {
    "collapsed": false
   },
   "outputs": [],
   "source": [
    "#scaler = MinMaxScaler(feature_range= (-1,1), copy =False)\n",
    "X_all = pd.DataFrame(scale(X_all), columns = X_all.columns, index = [X_all.index])\n",
    "X = X_all.loc[X.index]"
   ]
  },
  {
   "cell_type": "code",
   "execution_count": null,
   "metadata": {
    "collapsed": false
   },
   "outputs": [],
   "source": [
    "\n",
    "\n",
    "X_k = X.loc[:,list(K_df[K_df['F_score'] > 5]['Gene'])]\n",
    "print(\"New Dataset, X_k, has shape:\",X_k.shape)\n",
    "\n",
    "X_kk = X.loc[:,list(K_df[K_df['F_score'] > 25]['Gene'])]\n",
    "print(\"New Dataset, X_kk, has shape:\",X_kk.shape)\n"
   ]
  },
  {
   "cell_type": "code",
   "execution_count": null,
   "metadata": {
    "collapsed": false
   },
   "outputs": [],
   "source": [
    "sm = pd.scatter_matrix(X_kk.iloc[:,0:7], \n",
    "                       alpha=0.4, \n",
    "                       figsize= (16,16), \n",
    "                       diagonal = 'kde', \n",
    "                       c = y.replace({'n1': 'red','n0':'blue'}), \n",
    "                       s = 100)"
   ]
  },
  {
   "cell_type": "markdown",
   "metadata": {},
   "source": [
    "## Generate Models"
   ]
  },
  {
   "cell_type": "markdown",
   "metadata": {},
   "source": [
    "The data is noisy...\n",
    "\n",
    "An ensemble model is usually the most appropriate.  "
   ]
  },
  {
   "cell_type": "markdown",
   "metadata": {},
   "source": [
    "## SVM with Recursive Feature Elimination"
   ]
  },
  {
   "cell_type": "code",
   "execution_count": null,
   "metadata": {
    "collapsed": true
   },
   "outputs": [],
   "source": [
    "from sklearn.model_selection import learning_curve, validation_curve"
   ]
  },
  {
   "cell_type": "code",
   "execution_count": null,
   "metadata": {
    "collapsed": false,
    "scrolled": true
   },
   "outputs": [],
   "source": [
    "%run -i SVM/SVM.py #recursive feature elimination is slow O^n?"
   ]
  },
  {
   "cell_type": "code",
   "execution_count": null,
   "metadata": {
    "collapsed": false
   },
   "outputs": [],
   "source": [
    "print(X_kk.columns[clf_svm_rf.support_])"
   ]
  },
  {
   "cell_type": "code",
   "execution_count": null,
   "metadata": {
    "collapsed": false
   },
   "outputs": [],
   "source": [
    "clf_svm = SVC(C=0.05,\n",
    "          kernel='linear',\n",
    "          probability=False,\n",
    "          tol=0.001,\n",
    "          cache_size=200,\n",
    "          gamma = 'auto',\n",
    "          class_weight='balanced',\n",
    "          verbose=False,\n",
    "          max_iter=-1,\n",
    "          random_state= 123)\n",
    "clf_svm.fit(X_svm.loc[X_train.index,:], y_train)"
   ]
  },
  {
   "cell_type": "markdown",
   "metadata": {},
   "source": [
    "## Improve SVM with gridsearch"
   ]
  },
  {
   "cell_type": "code",
   "execution_count": null,
   "metadata": {
    "collapsed": false
   },
   "outputs": [],
   "source": [
    "from sklearn.model_selection import GridSearchCV"
   ]
  },
  {
   "cell_type": "code",
   "execution_count": null,
   "metadata": {
    "collapsed": false
   },
   "outputs": [],
   "source": [
    "param_grid = {'C': [5e-4, 5e-3, 1e-2, 5e-2],\n",
    "              'class_weight': ['balanced',\n",
    "                               {'n0':1, 'n1':1},\n",
    "                               {'n0':1, 'n1':4}, \n",
    "                               {'n0':1, 'n1':8},\n",
    "                               {'n0':1, 'n1':16}]}\n",
    "clf_SVM = GridSearchCV(clf_svm, \n",
    "                       param_grid = param_grid, \n",
    "                       scoring=fbeta_scorer, \n",
    "                       fit_params=None, \n",
    "                       n_jobs=1, \n",
    "                       iid=False, \n",
    "                       refit=True, \n",
    "                       cv=4, \n",
    "                       verbose=0, \n",
    "                       pre_dispatch='2*n_jobs', \n",
    "                       error_score='raise')"
   ]
  },
  {
   "cell_type": "code",
   "execution_count": null,
   "metadata": {
    "collapsed": false
   },
   "outputs": [],
   "source": [
    "clf_SVM.fit(X_svm.loc[X_train.index, :], y_train)"
   ]
  },
  {
   "cell_type": "code",
   "execution_count": null,
   "metadata": {
    "collapsed": false
   },
   "outputs": [],
   "source": [
    "#print(clf_SVM.grid_scores_)\n",
    "print('\\n\\n',clf_SVM.best_params_, clf_SVM.best_score_)\n",
    "print('\\n\\n',clf_SVM.best_estimator_)"
   ]
  },
  {
   "cell_type": "code",
   "execution_count": null,
   "metadata": {
    "collapsed": true
   },
   "outputs": [],
   "source": [
    "clf_svm = clf_SVM.best_estimator_"
   ]
  },
  {
   "cell_type": "markdown",
   "metadata": {},
   "source": [
    "## SVM Performance versus Training Set"
   ]
  },
  {
   "cell_type": "code",
   "execution_count": null,
   "metadata": {
    "collapsed": false
   },
   "outputs": [],
   "source": [
    "testDF = pd.DataFrame({'LogReg_Benchmark': clf_LR.predict_proba(benchmarkDF.loc[X_train.index])[:,1],  \n",
    "                       'SVM': clf_svm.decision_function(X_svm.loc[X_train.index,:])}, index=y_train.index) \n",
    "sm = pd.scatter_matrix(testDF, \n",
    "                       alpha=0.75, \n",
    "                       figsize= (12,12), \n",
    "                       diagonal = 'kde', \n",
    "                       c = y_train.replace({'n1': 'red','n0':'blue'}), \n",
    "                       s = 100)"
   ]
  },
  {
   "cell_type": "code",
   "execution_count": null,
   "metadata": {
    "collapsed": false
   },
   "outputs": [],
   "source": [
    "print(classification_report(y_train,\n",
    "                            clf_svm.predict(X_svm.loc[X_train.index]),\n",
    "                            target_names = ['n0', 'n1']))\n",
    "print('F beta: ', fbeta_score(y_train, clf_svm.predict(X_svm.loc[X_train.index]), beta = 2, pos_label='n1'))\n",
    "print('\\nMCC: ',matthews_corrcoef(y_train, clf_svm.predict(X_svm.loc[X_train.index])))"
   ]
  },
  {
   "cell_type": "markdown",
   "metadata": {},
   "source": [
    "## Add Gleason Score to Data set, retrain SVM and test performance"
   ]
  },
  {
   "cell_type": "code",
   "execution_count": null,
   "metadata": {
    "collapsed": false
   },
   "outputs": [],
   "source": [
    "print(gleason.shape)\n",
    "print(X_svm.shape)\n",
    "X_svm['gleason'] = gleason.reindex(X_svm.index)\n",
    "print(X_svm.shape)"
   ]
  },
  {
   "cell_type": "code",
   "execution_count": null,
   "metadata": {
    "collapsed": false
   },
   "outputs": [],
   "source": [
    "clf_svm.fit(X_svm.loc[X_train.index], y_train)"
   ]
  },
  {
   "cell_type": "code",
   "execution_count": null,
   "metadata": {
    "collapsed": false
   },
   "outputs": [],
   "source": [
    "testDF = pd.DataFrame({'Logistic_Regression_Benchmark': clf_LR.predict_proba(benchmarkDF.loc[X_train.index])[:,1],  \n",
    "                       'SVM': clf_svm.decision_function(X_svm.loc[X_train.index,:])}, index=y_train.index) \n",
    "sm = pd.scatter_matrix(testDF, \n",
    "                       alpha=0.75, \n",
    "                       figsize= (12,12), \n",
    "                       diagonal = 'kde', \n",
    "                       c = y_train.replace({'n1': 'red','n0':'blue'}), \n",
    "                       s = 100)"
   ]
  },
  {
   "cell_type": "code",
   "execution_count": null,
   "metadata": {
    "collapsed": false
   },
   "outputs": [],
   "source": [
    "print(classification_report(y_train,\n",
    "                            clf_svm.predict(X_svm.loc[X_train.index]),\n",
    "                            target_names = ['n0', 'n1']))\n",
    "print('F beta: ', fbeta_score(y_train, clf_svm.predict(X_svm.loc[X_train.index]), beta = 2, pos_label='n1'))\n",
    "print('\\nMCC: ',matthews_corrcoef(y_train, clf_svm.predict(X_svm.loc[X_train.index])))"
   ]
  },
  {
   "cell_type": "code",
   "execution_count": null,
   "metadata": {
    "collapsed": false
   },
   "outputs": [],
   "source": [
    "%run -i Random_Forest/RF.py"
   ]
  },
  {
   "cell_type": "markdown",
   "metadata": {},
   "source": [
    "## Optimize Random Forest"
   ]
  },
  {
   "cell_type": "code",
   "execution_count": null,
   "metadata": {
    "collapsed": true
   },
   "outputs": [],
   "source": [
    "clf_RF = RandomForestClassifier(n_estimators=100,\n",
    "                                   criterion='gini',\n",
    "                                   max_depth=3,\n",
    "                                   min_samples_split=100,\n",
    "                                   min_samples_leaf=25,\n",
    "                                   min_weight_fraction_leaf=0.0,\n",
    "                                   max_features= 0.05,\n",
    "                                   max_leaf_nodes=None,\n",
    "                                   bootstrap=True,\n",
    "                                   oob_score=False,\n",
    "                                   n_jobs=1,\n",
    "                                   random_state=123,\n",
    "                                   verbose=0,\n",
    "                                   warm_start=False,\n",
    "                                   class_weight='balanced')"
   ]
  },
  {
   "cell_type": "code",
   "execution_count": null,
   "metadata": {
    "collapsed": true
   },
   "outputs": [],
   "source": [
    "param_grid = {'max_depth': [1,2,3],\n",
    "              'max_features': [0.025, 0.05, 0.1]}\n",
    "clf_rf = GridSearchCV(clf_RF, \n",
    "                       param_grid = param_grid, \n",
    "                       scoring=fbeta_scorer, \n",
    "                       fit_params=None, \n",
    "                       n_jobs=1, \n",
    "                       iid=False, \n",
    "                       refit=True, \n",
    "                       cv=4, \n",
    "                       verbose=0, \n",
    "                       pre_dispatch='2*n_jobs', \n",
    "                       error_score='raise')"
   ]
  },
  {
   "cell_type": "code",
   "execution_count": null,
   "metadata": {
    "collapsed": false,
    "scrolled": true
   },
   "outputs": [],
   "source": [
    "clf_rf.fit(X_k.loc[X_train.index,:], y_train)"
   ]
  },
  {
   "cell_type": "code",
   "execution_count": null,
   "metadata": {
    "collapsed": false,
    "scrolled": true
   },
   "outputs": [],
   "source": [
    "clf_rf.best_params_"
   ]
  },
  {
   "cell_type": "code",
   "execution_count": null,
   "metadata": {
    "collapsed": false
   },
   "outputs": [],
   "source": [
    "clf_RF = clf_rf.best_estimator_\n"
   ]
  },
  {
   "cell_type": "code",
   "execution_count": null,
   "metadata": {
    "collapsed": false,
    "scrolled": true
   },
   "outputs": [],
   "source": [
    "testDF = pd.DataFrame({'Benchmark_LogReg_Prob': clf_LR.predict_proba(benchmarkDF.loc[X_train.index])[:,1],  \n",
    "                       'Random_Forest_Prob': clf_RF.predict_proba(X_k.loc[X_train.index,:])[:,1]}, \n",
    "                      index=y_train.index) \n",
    "sm = pd.scatter_matrix(testDF, \n",
    "                       alpha=0.75, \n",
    "                       figsize= (12,12), \n",
    "                       diagonal = 'kde', \n",
    "                       c = y_train.replace({'n1': 'red','n0':'blue'}), \n",
    "                       s = 100)"
   ]
  },
  {
   "cell_type": "code",
   "execution_count": null,
   "metadata": {
    "collapsed": false
   },
   "outputs": [],
   "source": [
    "Train_Fig = plt.figure(figsize=(8,8))\n",
    "A= Train_Fig.add_subplot(1,1,1)\n",
    "A.scatter(clf_svm.decision_function(X_svm.loc[X_train.index,:]),\n",
    "          clf_RF.predict_proba(X_k.loc[X_train.index,:])[:,1],\n",
    "          color = y_train.replace({'n1':'red', 'n0':'blue'}),\n",
    "          alpha = 0.8,\n",
    "          #label = ['n0', 'n1']\n",
    "         )\n",
    "A.set_xlabel('SVM - Decision Function Value', fontsize = 16)\n",
    "A.set_ylabel('Random Forest - Probability', fontsize =16)\n",
    "#A.legend()\n",
    "plt.show()"
   ]
  },
  {
   "cell_type": "code",
   "execution_count": null,
   "metadata": {
    "collapsed": false
   },
   "outputs": [],
   "source": [
    "print(classification_report(y_train,\n",
    "                            clf_RF.predict(X_k.loc[X_train.index]),\n",
    "                            target_names = ['n0', 'n1']))\n",
    "print('F beta: ', fbeta_score(y_train, clf_RF.predict(X_k.loc[X_train.index]), beta = 2, pos_label='n1'))\n",
    "print('\\nMCC: ',matthews_corrcoef(y_train, clf_RF.predict(X_k.loc[X_train.index])))"
   ]
  },
  {
   "cell_type": "markdown",
   "metadata": {
    "collapsed": false,
    "scrolled": true
   },
   "source": [
    "## Test for the best model"
   ]
  },
  {
   "cell_type": "code",
   "execution_count": null,
   "metadata": {
    "collapsed": true
   },
   "outputs": [],
   "source": [
    "import math"
   ]
  },
  {
   "cell_type": "code",
   "execution_count": null,
   "metadata": {
    "collapsed": false
   },
   "outputs": [],
   "source": [
    "Test_Fig = plt.figure(figsize=(8,8))\n",
    "A= Test_Fig.add_subplot(1,1,1)\n",
    "A.scatter(clf_svm.decision_function(X_svm.loc[X_test.index,:]),\n",
    "          clf_RF.predict_proba(X_k.loc[X_test.index,:])[:,1],\n",
    "          color = y_test.replace({'n1':'red', 'n0':'blue'}),\n",
    "          alpha = 0.75)\n",
    "A.set_xlabel('SVM - Decision Function Value', fontsize = 16)\n",
    "A.set_ylabel('Random Forest - Probability', fontsize =16)\n",
    "#A.legend()\n",
    "plt.show()"
   ]
  },
  {
   "cell_type": "code",
   "execution_count": null,
   "metadata": {
    "collapsed": false
   },
   "outputs": [],
   "source": [
    "print(classification_report(y_test,\n",
    "                            clf_svm.predict(X_svm.loc[X_test.index]),\n",
    "                            target_names = ['n0', 'n1']))\n",
    "print('F beta: ', fbeta_score(y_test, clf_svm.predict(X_svm.loc[X_test.index]), beta = 2, pos_label='n1'))\n",
    "print('\\nMCC: ',matthews_corrcoef(y_test, clf_svm.predict(X_svm.loc[X_test.index])))"
   ]
  },
  {
   "cell_type": "code",
   "execution_count": null,
   "metadata": {
    "collapsed": false
   },
   "outputs": [],
   "source": [
    "print('\\nF beta: ', fbeta_score(y_test, clf_RF.predict(X_k.loc[y_test.index, :]), pos_label='n1',beta=2))\n",
    "print('\\nMCC: ',matthews_corrcoef(y_test, clf_RF.predict(X_k.loc[y_test.index, :])),\"\\n\")\n",
    "print(classification_report(y_test, clf_RF.predict(X_k.loc[y_test.index, :]), labels = ['n0','n1']))"
   ]
  },
  {
   "cell_type": "code",
   "execution_count": null,
   "metadata": {
    "collapsed": true
   },
   "outputs": [],
   "source": []
  }
 ],
 "metadata": {
  "kernelspec": {
   "display_name": "Python 3",
   "language": "python",
   "name": "python3"
  },
  "language_info": {
   "codemirror_mode": {
    "name": "ipython",
    "version": 3
   },
   "file_extension": ".py",
   "mimetype": "text/x-python",
   "name": "python",
   "nbconvert_exporter": "python",
   "pygments_lexer": "ipython3",
   "version": "3.5.1"
  }
 },
 "nbformat": 4,
 "nbformat_minor": 0
}
