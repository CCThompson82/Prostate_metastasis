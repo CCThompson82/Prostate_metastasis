{
 "cells": [
  {
   "cell_type": "code",
   "execution_count": 17,
   "metadata": {
    "collapsed": false,
    "scrolled": false
   },
   "outputs": [
    {
     "name": "stdout",
     "output_type": "stream",
     "text": [
      "Clinical data set imported\n",
      "\n",
      "\n",
      " The following features do not provide any information: \n",
      " ['Composite.Element.REF' 'ethnicity' 'gender' 'pathologicstage'\n",
      " 'pathologyMstage' 'tumortissuesite'] \n",
      "\n",
      "\n",
      "\n",
      " Variables that are not known at initial diagnosis: \n",
      " ['daystodeath' 'daystolastfollowup' 'daystopsa' 'histologicaltype'\n",
      " 'numberoflymphnodes' 'pathologyTstage' 'radiationtherapy' 'residualtumor'\n",
      " 'vitalstatus'] \n",
      "\n",
      "\n",
      "Variables that are known at the time of diagnosis:\n",
      " ['dateofinitialpathologicdiagnosis' 'gleasonscore' 'psavalue' 'race'\n",
      " 'yearstobirth']\n",
      "\n",
      "Dimensions of clinical dataframe: (499, 5)\n"
     ]
    }
   ],
   "source": [
    "%run Dataset_cleanup/cleanup_clinical.py"
   ]
  },
  {
   "cell_type": "code",
   "execution_count": 43,
   "metadata": {
    "collapsed": false
   },
   "outputs": [
    {
     "name": "stdout",
     "output_type": "stream",
     "text": [
      "dateofinitialpathologicdiagnosis\n",
      "gleasonscore\n",
      "psavalue\n",
      "race\n",
      "yearstobirth\n"
     ]
    }
   ],
   "source": [
    "for c in range(0,clinical.shape[1]) :\n",
    "    print(clinical.columns[c])"
   ]
  },
  {
   "cell_type": "code",
   "execution_count": 29,
   "metadata": {
    "collapsed": false
   },
   "outputs": [],
   "source": [
    "clinical['gleasonscore'] = clinical['gleasonscore'].astype(float)"
   ]
  },
  {
   "cell_type": "code",
   "execution_count": 3,
   "metadata": {
    "collapsed": false
   },
   "outputs": [
    {
     "name": "stdout",
     "output_type": "stream",
     "text": [
      "Gene Counts data set imported\n",
      "\n",
      "Dimension of DataFrame: (550, 20501)\n",
      "\n",
      "Transformation Successful!\n",
      "\n",
      "Transcript abundance estimates have been transformed to transcripts per million reads\n"
     ]
    }
   ],
   "source": [
    "%run Dataset_cleanup/cleanup_gene_counts.py"
   ]
  },
  {
   "cell_type": "markdown",
   "metadata": {},
   "source": [
    "## Analysis of initial clinical presentation for  predictors of metastasis"
   ]
  },
  {
   "cell_type": "code",
   "execution_count": 8,
   "metadata": {
    "collapsed": false
   },
   "outputs": [
    {
     "name": "stdout",
     "output_type": "stream",
     "text": [
      "               dateofinitialpathologicdiagnosis gleasonscore psavalue   race  \\\n",
      "clinical_index                                                                 \n",
      "TCGA-CH-5753                               2008            9     4.53  white   \n",
      "TCGA-CH-5763                               2008            7      0.1  white   \n",
      "TCGA-CH-5764                               2008            7    13.95  white   \n",
      "TCGA-CH-5772                               2008            9     0.03  white   \n",
      "TCGA-CH-5790                               2006            7      0.1  white   \n",
      "TCGA-CH-5791                               2006            7     0.18  white   \n",
      "TCGA-EJ-5542                               2010            7      0.1  white   \n",
      "TCGA-EJ-7123                               2007            7      0.1  white   \n",
      "TCGA-EJ-7312                               2011            7      0.1   None   \n",
      "TCGA-EJ-7325                               2011            7      0.1   None   \n",
      "TCGA-EJ-7791                               2011            7      0.1  white   \n",
      "TCGA-EJ-A46B                               2012            8      0.1   None   \n",
      "TCGA-EJ-A46G                               2012            8      0.1   None   \n",
      "TCGA-EJ-A65J                               2012            9      0.1   None   \n",
      "TCGA-EJ-A6RC                               2011            7      0.1   None   \n",
      "TCGA-G9-6364                               2009            7     0.03  white   \n",
      "TCGA-HC-7233                               2010            7     None  white   \n",
      "TCGA-HC-7748                               2011            6      0.1  white   \n",
      "TCGA-HC-7821                               2011            8     0.01  white   \n",
      "TCGA-HC-A6AQ                               2012            7     None   None   \n",
      "TCGA-HC-A76W                               2012            7     0.01   None   \n",
      "TCGA-J4-A83N                               2012            7      0.1   None   \n",
      "TCGA-J9-A8CN                               2011            6     0.03   None   \n",
      "TCGA-KC-A7FA                               2013            7        0   None   \n",
      "TCGA-KK-A7AP                               2010            9     None   None   \n",
      "TCGA-KK-A7B3                               2012            9      0.1   None   \n",
      "TCGA-KK-A7B4                               2012            9      0.6   None   \n",
      "TCGA-KK-A8IB                               2012            9     None   None   \n",
      "TCGA-QU-A6IM                               2003            7      0.1   None   \n",
      "TCGA-XK-AAJ3                               2010            8     0.09   None   \n",
      "...                                         ...          ...      ...    ...   \n",
      "TCGA-YL-A9WI                               2010            9     0.03   None   \n",
      "TCGA-YL-A9WJ                               2008            8      3.1   None   \n",
      "TCGA-YL-A9WK                               2008            9     15.6   None   \n",
      "TCGA-YL-A9WL                               2011            9      6.4   None   \n",
      "TCGA-YL-A9WX                               2009            9     0.76   None   \n",
      "TCGA-YL-A9WY                               2011            9      1.8   None   \n",
      "TCGA-ZG-A8QW                               2013            9     None   None   \n",
      "TCGA-ZG-A8QX                               2013            6     None   None   \n",
      "TCGA-ZG-A8QY                               2013            9     None   None   \n",
      "TCGA-ZG-A8QZ                               2013            9     0.01   None   \n",
      "TCGA-ZG-A9KY                               2013            9     None   None   \n",
      "TCGA-ZG-A9L0                               2013            9     None   None   \n",
      "TCGA-ZG-A9L1                               2010            9     0.07   None   \n",
      "TCGA-ZG-A9L2                               2011            9     0.01   None   \n",
      "TCGA-ZG-A9L4                               2011            9     0.03   None   \n",
      "TCGA-ZG-A9L5                               2011            9     None   None   \n",
      "TCGA-ZG-A9L6                               2011            9     0.36   None   \n",
      "TCGA-ZG-A9L9                               2012            9     None   None   \n",
      "TCGA-ZG-A9LB                               2012            9     0.02   None   \n",
      "TCGA-ZG-A9LM                               2013            9        0   None   \n",
      "TCGA-ZG-A9LN                               2013            9     7.42   None   \n",
      "TCGA-ZG-A9LS                               2013            9     0.03   None   \n",
      "TCGA-ZG-A9LU                               2012            9      0.7   None   \n",
      "TCGA-ZG-A9LY                               2012            9     0.01   None   \n",
      "TCGA-ZG-A9LZ                               2011            9     2.19   None   \n",
      "TCGA-ZG-A9M4                               2012            9     0.95   None   \n",
      "TCGA-ZG-A9MC                               2012            9    31.85   None   \n",
      "TCGA-ZG-A9N3                               2013            9      0.1   None   \n",
      "TCGA-ZG-A9ND                               2013            9     0.08   None   \n",
      "TCGA-ZG-A9NI                               2013            9     0.03   None   \n",
      "\n",
      "               yearstobirth  \n",
      "clinical_index               \n",
      "TCGA-CH-5753             70  \n",
      "TCGA-CH-5763             66  \n",
      "TCGA-CH-5764             66  \n",
      "TCGA-CH-5772             63  \n",
      "TCGA-CH-5790             64  \n",
      "TCGA-CH-5791             72  \n",
      "TCGA-EJ-5542             60  \n",
      "TCGA-EJ-7123             59  \n",
      "TCGA-EJ-7312             58  \n",
      "TCGA-EJ-7325             63  \n",
      "TCGA-EJ-7791             67  \n",
      "TCGA-EJ-A46B             66  \n",
      "TCGA-EJ-A46G             71  \n",
      "TCGA-EJ-A65J             62  \n",
      "TCGA-EJ-A6RC             64  \n",
      "TCGA-G9-6364             72  \n",
      "TCGA-HC-7233           None  \n",
      "TCGA-HC-7748             60  \n",
      "TCGA-HC-7821             54  \n",
      "TCGA-HC-A6AQ             60  \n",
      "TCGA-HC-A76W             73  \n",
      "TCGA-J4-A83N             57  \n",
      "TCGA-J9-A8CN             53  \n",
      "TCGA-KC-A7FA             63  \n",
      "TCGA-KK-A7AP             55  \n",
      "TCGA-KK-A7B3             62  \n",
      "TCGA-KK-A7B4             64  \n",
      "TCGA-KK-A8IB             65  \n",
      "TCGA-QU-A6IM             59  \n",
      "TCGA-XK-AAJ3             56  \n",
      "...                     ...  \n",
      "TCGA-YL-A9WI             63  \n",
      "TCGA-YL-A9WJ             47  \n",
      "TCGA-YL-A9WK             63  \n",
      "TCGA-YL-A9WL             59  \n",
      "TCGA-YL-A9WX             68  \n",
      "TCGA-YL-A9WY             57  \n",
      "TCGA-ZG-A8QW             72  \n",
      "TCGA-ZG-A8QX             56  \n",
      "TCGA-ZG-A8QY             67  \n",
      "TCGA-ZG-A8QZ             65  \n",
      "TCGA-ZG-A9KY             73  \n",
      "TCGA-ZG-A9L0             71  \n",
      "TCGA-ZG-A9L1             66  \n",
      "TCGA-ZG-A9L2             70  \n",
      "TCGA-ZG-A9L4             61  \n",
      "TCGA-ZG-A9L5             58  \n",
      "TCGA-ZG-A9L6             64  \n",
      "TCGA-ZG-A9L9             60  \n",
      "TCGA-ZG-A9LB             72  \n",
      "TCGA-ZG-A9LM             72  \n",
      "TCGA-ZG-A9LN             57  \n",
      "TCGA-ZG-A9LS             64  \n",
      "TCGA-ZG-A9LU             67  \n",
      "TCGA-ZG-A9LY             60  \n",
      "TCGA-ZG-A9LZ             66  \n",
      "TCGA-ZG-A9M4             65  \n",
      "TCGA-ZG-A9MC             69  \n",
      "TCGA-ZG-A9N3             73  \n",
      "TCGA-ZG-A9ND             55  \n",
      "TCGA-ZG-A9NI             73  \n",
      "\n",
      "[499 rows x 5 columns]\n"
     ]
    }
   ],
   "source": [
    "from sklearn.tree import DecisionTreeClassifier\n",
    "\n",
    "clf = DecisionTreeClassifier(criterion='gini',\n",
    "                            splitter='best',\n",
    "                            max_depth=None,\n",
    "                            min_samples_split=2,\n",
    "                            min_samples_leaf=1,\n",
    "                            min_weight_fraction_leaf=0.0,\n",
    "                            max_features=None,\n",
    "                            random_state=None,\n",
    "                            max_leaf_nodes=None,\n",
    "                            class_weight='balanced',\n",
    "                            presort=False)\n",
    "\n",
    "print(clinical)"
   ]
  },
  {
   "cell_type": "raw",
   "metadata": {},
   "source": []
  }
 ],
 "metadata": {
  "kernelspec": {
   "display_name": "Python 3",
   "language": "python",
   "name": "python3"
  },
  "language_info": {
   "codemirror_mode": {
    "name": "ipython",
    "version": 3
   },
   "file_extension": ".py",
   "mimetype": "text/x-python",
   "name": "python",
   "nbconvert_exporter": "python",
   "pygments_lexer": "ipython3",
   "version": "3.5.1"
  }
 },
 "nbformat": 4,
 "nbformat_minor": 0
}
