{
 "cells": [
  {
   "cell_type": "code",
   "execution_count": 2,
   "metadata": {
    "collapsed": false,
    "scrolled": true
   },
   "outputs": [
    {
     "name": "stdout",
     "output_type": "stream",
     "text": [
      "Clinical data set imported\n",
      "\n",
      "\n",
      " The following features do not provide any information: \n",
      " ['Composite.Element.REF' 'ethnicity' 'gender' 'pathologicstage'\n",
      " 'pathologyMstage' 'tumortissuesite'] \n",
      "\n",
      "\n",
      "\n",
      " Variables that are not known at initial diagnosis: \n",
      " ['daystodeath' 'daystolastfollowup' 'daystopsa' 'gleasonscore'\n",
      " 'histologicaltype' 'numberoflymphnodes' 'pathologyTstage'\n",
      " 'radiationtherapy' 'residualtumor' 'vitalstatus'] \n",
      "\n",
      "\n",
      "Variables that are known at the time of diagnosis:\n",
      " ['dateofinitialpathologicdiagnosis' 'psavalue' 'race' 'yearstobirth']\n",
      "\n",
      "Dimensions of clinical dataframe: (499, 7)\n"
     ]
    }
   ],
   "source": [
    "%run Dataset_cleanup/cleanup_clinical.py"
   ]
  },
  {
   "cell_type": "code",
   "execution_count": 3,
   "metadata": {
    "collapsed": false
   },
   "outputs": [
    {
     "name": "stdout",
     "output_type": "stream",
     "text": [
      "Gene Counts data set imported\n",
      "\n",
      "Dimension of DataFrame: (497, 20501)\n"
     ]
    }
   ],
   "source": [
    "%run Dataset_cleanup/cleanup_gene_counts.py"
   ]
  },
  {
   "cell_type": "markdown",
   "metadata": {},
   "source": [
    "## Benchmark Analysis of initial clinical presentation for  predictors of metastasis"
   ]
  },
  {
   "cell_type": "code",
   "execution_count": 4,
   "metadata": {
    "collapsed": false
   },
   "outputs": [
    {
     "name": "stdout",
     "output_type": "stream",
     "text": [
      "Total observations in original dataset: 499\n",
      "\n",
      "Labeled observations: 426 \n",
      "Unlabeled observations removed: 73\n"
     ]
    }
   ],
   "source": [
    "\"\"\"The Clinical data (including metastasis label) have a multitude of missing items.\"\"\"\n",
    "print(\"Total observations in original dataset:\",clinical.shape[0])\n",
    "\n",
    "not_labeled = y[y.isnull()]\n",
    "y_labels = y[y.notnull()]\n",
    "\n",
    "print(\"\\nLabeled observations:\",y_labels.shape[0],\"\\nUnlabeled observations removed:\",not_labeled.shape[0])\n"
   ]
  },
  {
   "cell_type": "code",
   "execution_count": 5,
   "metadata": {
    "collapsed": false
   },
   "outputs": [
    {
     "name": "stdout",
     "output_type": "stream",
     "text": [
      "Filtering out missing metastasis state labels left 426 observations\n",
      "Removing NaN rows leaves  359  observations in the feature set.\n"
     ]
    }
   ],
   "source": [
    "clinical = clinical.loc[y_labels.index]  #filter only observations where metastasis state is known\n",
    "print(\"Filtering out missing metastasis state labels left\",clinical.shape[0],\"observations\")\n",
    "\n",
    "clinical.dropna(inplace = True) # Remove all observations where clinical data is missing\n",
    "print(\"Removing NaN rows leaves \",clinical.shape[0],\" observations in the feature set.\") \n",
    "\n",
    "y_labels_NAdrop = y_labels.loc[clinical.index] #remove metastasis labels where no clinical data now exists due to NaN removal."
   ]
  },
  {
   "cell_type": "code",
   "execution_count": 6,
   "metadata": {
    "collapsed": true
   },
   "outputs": [],
   "source": [
    "from sklearn.tree import DecisionTreeClassifier\n",
    "from sklearn.cross_validation import cross_val_score\n",
    "from sklearn.metrics import recall_score\n",
    "from sklearn.metrics import make_scorer, accuracy_score"
   ]
  },
  {
   "cell_type": "code",
   "execution_count": 7,
   "metadata": {
    "collapsed": false
   },
   "outputs": [
    {
     "name": "stdout",
     "output_type": "stream",
     "text": [
      "Recall_n1:   0.465384615385\n",
      "\n",
      "Model Accuracy score:   0.533585761142\n",
      "\n",
      "Null error rate for metastasis:   0.18544600939\n"
     ]
    }
   ],
   "source": [
    "recaller = make_scorer(recall_score, greater_is_better=True, needs_proba=False, needs_threshold=False, pos_label='n1')\n",
    "accuracy = make_scorer(accuracy_score, greater_is_better=True, needs_proba=False, needs_threshold=False)\n",
    "clf = DecisionTreeClassifier(criterion='gini',\n",
    "                            splitter='best',\n",
    "                            max_depth=None,\n",
    "                            min_samples_split=30,\n",
    "                            min_samples_leaf=1,\n",
    "                            min_weight_fraction_leaf=0.0,\n",
    "                            max_features=None,\n",
    "                            random_state=None,\n",
    "                            max_leaf_nodes=None,\n",
    "                            class_weight='balanced', #avoids the classifier being rewarded for choosing the most prevelant class each instance (n0)\n",
    "                            presort=False)\n",
    "recall_vals = cross_val_score(clf, clinical, y_labels_NAdrop, scoring=recaller, cv=5)\n",
    "accuracy_vals = cross_val_score(clf, clinical, y_labels_NAdrop, scoring=accuracy, cv=5)\n",
    "print('Recall_n1:  ',recall_vals.mean())\n",
    "\n",
    "print('\\nModel Accuracy score:  ',accuracy_vals.mean())\n",
    "print(\"\\nNull error rate for metastasis:  \",(sum(y_labels == 'n1') / len(y_labels)))"
   ]
  },
  {
   "cell_type": "markdown",
   "metadata": {
    "collapsed": false
   },
   "source": [
    "## Exploratory Analysis using Gene TPM counts as predictors of Metastasis"
   ]
  },
  {
   "cell_type": "markdown",
   "metadata": {},
   "source": [
    "### Wrangle TPM counts DF"
   ]
  },
  {
   "cell_type": "code",
   "execution_count": 35,
   "metadata": {
    "collapsed": false
   },
   "outputs": [
    {
     "name": "stdout",
     "output_type": "stream",
     "text": [
      "(497, 20501)\n",
      "426\n",
      "(426, 20501)\n",
      "424\n"
     ]
    }
   ],
   "source": [
    "print(gene_counts.shape)\n",
    "print(len(y_labels.index))\n",
    "X = gene_counts.loc[list(y_labels.index)]  #Only observations that also have a known metastasis state are kept.  \n",
    "print(X.shape)\n",
    "print(sum(np.isfinite(X.iloc[:,1])))"
   ]
  },
  {
   "cell_type": "code",
   "execution_count": 36,
   "metadata": {
    "collapsed": false
   },
   "outputs": [
    {
     "name": "stdout",
     "output_type": "stream",
     "text": [
      "424\n",
      "424\n"
     ]
    }
   ],
   "source": [
    "X.dropna(axis=0, inplace=True)\n",
    "print(X.shape[0])\n",
    "y_labels_NA_gc_dropped = y_labels[X.index]\n",
    "print(len(y_labels_NA_gc_dropped.index))"
   ]
  },
  {
   "cell_type": "code",
   "execution_count": 37,
   "metadata": {
    "collapsed": false
   },
   "outputs": [
    {
     "name": "stdout",
     "output_type": "stream",
     "text": [
      "Data set contains 424 uniquely barcoded observations.\n"
     ]
    }
   ],
   "source": [
    "def duplicate_TCGA_ID_test(X) :\n",
    "    seen = set()\n",
    "    uniq = []\n",
    "    duplicates = []\n",
    "    for x in X.index:\n",
    "        if x not in seen:\n",
    "            uniq.append(x)\n",
    "            seen.add(x)\n",
    "        else:\n",
    "            duplicates.append(x)\n",
    "    if len(duplicates) > 0 :\n",
    "        print(\"Error in data set arrangement\")\n",
    "    else :\n",
    "        print(\"Data set contains\",X.shape[0],\"uniquely barcoded observations.\")\n",
    "\n",
    "duplicate_TCGA_ID_test(X)"
   ]
  },
  {
   "cell_type": "markdown",
   "metadata": {
    "collapsed": false
   },
   "source": [
    "### Feature Reduction"
   ]
  },
  {
   "cell_type": "code",
   "execution_count": 38,
   "metadata": {
    "collapsed": false
   },
   "outputs": [],
   "source": [
    "from sklearn.feature_selection import SelectKBest, f_classif"
   ]
  },
  {
   "cell_type": "code",
   "execution_count": 44,
   "metadata": {
    "collapsed": false
   },
   "outputs": [
    {
     "name": "stderr",
     "output_type": "stream",
     "text": [
      "/Users/ccthomps/anaconda/lib/python3.5/site-packages/sklearn/feature_selection/univariate_selection.py:113: UserWarning: Features [ 1595  1815  2267  4324  4341  4342  4343  4344  4345  4346  4347  4779\n",
      "  4780  4781  4782  4787  4790  4791  4794  4795  4801  4803  5259  6032\n",
      "  6776  6780  6783  7445  7551  7632  7633  7634  7635  7636  7732  9275\n",
      "  9277  9287  9291  9292  9419  9421  9423  9495 10092 11101 11929 12028\n",
      " 12488 12527 12584 12593 12599 12601 12606 12635 12692 13749 13963 14015\n",
      " 14129 14130 14131 14132 14726 14727 14729 15109 15111 15112 16536 16538\n",
      " 16539 16541 16542 16543 16545 16546 16547 16548 16549 16550 16576 16605\n",
      " 16608 16648 16668 16669 16670 16671 16672 16673 16674 16675 16676 16677\n",
      " 16678 16679 16680 16681 16682 16683 16684 16685 16686 16687 16688 16689\n",
      " 16690 16691 16692 16693 16694 16695 16696 16697 16698 16699 16700 16701\n",
      " 16702 16703 16704 16705 16706 16707 16708 16709 16710 16711 16712 16713\n",
      " 16714 16715 16716 16717 16718 16720 16721 16722 16723 16724 16725 16726\n",
      " 16728 16729 16730 16731 16732 16733 16734 16735 16736 16737 16738 16739\n",
      " 16740 16741 16742 16743 16745 16746 16747 16748 16749 16750 16751 16752\n",
      " 16753 16754 16755 16756 16757 16759 16760 16761 16762 16763 16764 16766\n",
      " 16767 16769 16770 16771 16772 16773 16774 16775 16776 16777 16778 16779\n",
      " 16780 16781 16782 16783 16786 16788 16789 16790 16791 16792 16793 16794\n",
      " 16796 16797 16798 16801 16802 16803 16804 16805 16806 16807 16808 16809\n",
      " 16810 16811 16812 16813 16814 16815 16816 16817 16818 16819 16820 16821\n",
      " 16822 16823 16824 16825 16826 16827 16828 16829 16830 16831 16832 16833\n",
      " 16834 16835 16836 16837 16838 16839 16840 16841 16842 16843 16844 16845\n",
      " 16846 16847 16848 16849 16850 16851 16852 16853 16854 16855 16856 16857\n",
      " 16858 16859 16860 16861 16862 16863 16864 16865 16866 16867 16868 16869\n",
      " 16870 16871 16873 16874 16875 16876 16877 16878 16879 16880 16881 16882\n",
      " 16884 16885 16886 16887 16888 16889 16891 16892 16893 16895 16896 17041\n",
      " 17045 17127 17466 17871 18589 18788 18800 18873 18879 18880 18882 18886\n",
      " 18887 18964 19420 19421 19422 19641] are constant.\n",
      "  UserWarning)\n"
     ]
    }
   ],
   "source": [
    "selector = SelectKBest(f_classif, k = 423)\n",
    "X_new = selector.fit_transform(X, y_labels_NA_gc_dropped)"
   ]
  },
  {
   "cell_type": "code",
   "execution_count": 48,
   "metadata": {
    "collapsed": false
   },
   "outputs": [
    {
     "name": "stdout",
     "output_type": "stream",
     "text": [
      "(424, 20501)\n",
      "(424, 423)\n",
      "[[ 112.2389366   784.47000993   27.12668753 ...,    6.39007634\n",
      "     6.74376762  118.51111244]\n",
      " [  29.12621676  351.46732641   37.42225034 ...,    4.79947168\n",
      "    12.98681113   77.82675851]\n",
      " [  46.43687813  485.68998888   34.63025745 ...,    5.42064553\n",
      "     4.06548692   74.39838341]\n",
      " ..., \n",
      " [  37.90975887  362.85053754   15.06284997 ...,    4.52237243\n",
      "     3.96405492   71.91129512]\n",
      " [  47.60272866  306.40959445   36.60941898 ...,    4.71453724\n",
      "     3.83495792   44.64735007]\n",
      " [  48.39539623  318.60920416   30.52207881 ...,    6.44777729\n",
      "     3.26094535   46.80198272]]\n"
     ]
    }
   ],
   "source": [
    "print(X.shape)\n",
    "print(X_new.shape)\n",
    "print(X_new)"
   ]
  },
  {
   "cell_type": "code",
   "execution_count": null,
   "metadata": {
    "collapsed": true
   },
   "outputs": [],
   "source": []
  }
 ],
 "metadata": {
  "kernelspec": {
   "display_name": "Python 3",
   "language": "python",
   "name": "python3"
  },
  "language_info": {
   "codemirror_mode": {
    "name": "ipython",
    "version": 3
   },
   "file_extension": ".py",
   "mimetype": "text/x-python",
   "name": "python",
   "nbconvert_exporter": "python",
   "pygments_lexer": "ipython3",
   "version": "3.5.1"
  }
 },
 "nbformat": 4,
 "nbformat_minor": 0
}
