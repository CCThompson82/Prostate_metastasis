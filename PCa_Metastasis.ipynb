{
 "cells": [
  {
   "cell_type": "code",
   "execution_count": 11,
   "metadata": {
    "collapsed": false,
    "scrolled": false
   },
   "outputs": [
    {
     "name": "stdout",
     "output_type": "stream",
     "text": [
      "Clinical data set imported\n",
      "\n",
      "\n",
      " The following features do not provide any information: \n",
      " ['Composite.Element.REF' 'ethnicity' 'gender' 'pathologicstage'\n",
      " 'pathologyMstage' 'tumortissuesite'] \n",
      "\n",
      "\n",
      "\n",
      " Variables that are not known at initial diagnosis: \n",
      " ['daystodeath' 'daystolastfollowup' 'daystopsa' 'histologicaltype'\n",
      " 'numberoflymphnodes' 'pathologyTstage' 'radiationtherapy' 'residualtumor'\n",
      " 'vitalstatus'] \n",
      "\n",
      "\n",
      "Variables that are known at the time of diagnosis:\n",
      " ['dateofinitialpathologicdiagnosis' 'gleasonscore' 'psavalue' 'race'\n",
      " 'yearstobirth']\n",
      "\n",
      "Dimensions of clinical dataframe: (499, 8)\n"
     ]
    }
   ],
   "source": [
    "%run Dataset_cleanup/cleanup_clinical.py"
   ]
  },
  {
   "cell_type": "code",
   "execution_count": 12,
   "metadata": {
    "collapsed": false
   },
   "outputs": [
    {
     "name": "stdout",
     "output_type": "stream",
     "text": [
      "                dateofinitialpathologicdiagnosis  gleasonscore  psavalue  \\\n",
      "clinical_index                                                             \n",
      "TCGA-CH-5753                              2008.0           9.0      4.53   \n",
      "TCGA-CH-5763                              2008.0           7.0      0.10   \n",
      "TCGA-CH-5764                              2008.0           7.0     13.95   \n",
      "TCGA-CH-5772                              2008.0           9.0      0.03   \n",
      "TCGA-CH-5790                              2006.0           7.0      0.10   \n",
      "\n",
      "                yearstobirth  race_Not_provided  race_asian  race_black_or_AA  \\\n",
      "clinical_index                                                                  \n",
      "TCGA-CH-5753            70.0                0.0         0.0               0.0   \n",
      "TCGA-CH-5763            66.0                0.0         0.0               0.0   \n",
      "TCGA-CH-5764            66.0                0.0         0.0               0.0   \n",
      "TCGA-CH-5772            63.0                0.0         0.0               0.0   \n",
      "TCGA-CH-5790            64.0                0.0         0.0               0.0   \n",
      "\n",
      "                race_white  \n",
      "clinical_index              \n",
      "TCGA-CH-5753           1.0  \n",
      "TCGA-CH-5763           1.0  \n",
      "TCGA-CH-5764           1.0  \n",
      "TCGA-CH-5772           1.0  \n",
      "TCGA-CH-5790           1.0  \n"
     ]
    }
   ],
   "source": [
    "print(clinical.head())"
   ]
  },
  {
   "cell_type": "code",
   "execution_count": 2,
   "metadata": {
    "collapsed": false
   },
   "outputs": [
    {
     "name": "stdout",
     "output_type": "stream",
     "text": [
      "Gene Counts data set imported\n",
      "\n",
      "Dimension of DataFrame: (550, 20501)\n",
      "\n",
      "Transformation Successful!\n",
      "\n",
      "Transcript abundance estimates have been transformed to transcripts per million reads\n"
     ]
    }
   ],
   "source": [
    "%run Dataset_cleanup/cleanup_gene_counts.py"
   ]
  },
  {
   "cell_type": "markdown",
   "metadata": {},
   "source": [
    "## Analysis of initial clinical presentation for  predictors of metastasis"
   ]
  },
  {
   "cell_type": "code",
   "execution_count": 13,
   "metadata": {
    "collapsed": false
   },
   "outputs": [
    {
     "name": "stdout",
     "output_type": "stream",
     "text": [
      "Total observations in original dataset: 499\n",
      "\n",
      "Labeled observations: 426 \n",
      "Unlabeled observations removed: 73\n"
     ]
    }
   ],
   "source": [
    "\"\"\"The Clinical data (including metastasis label) have a multitude of missing items.\"\"\"\n",
    "print(\"Total observations in original dataset:\",clinical.shape[0])\n",
    "\n",
    "not_labeled = y[y.isnull()]\n",
    "y_labels = y[y.notnull()]\n",
    "\n",
    "print(\"\\nLabeled observations:\",y_labels.shape[0],\"\\nUnlabeled observations removed:\",not_labeled.shape[0])\n"
   ]
  },
  {
   "cell_type": "code",
   "execution_count": 16,
   "metadata": {
    "collapsed": false
   },
   "outputs": [
    {
     "name": "stdout",
     "output_type": "stream",
     "text": [
      "426\n",
      "Removing NaN rows leaves  359  obersvations in the feature set.\n"
     ]
    }
   ],
   "source": [
    "clinical = clinical.loc[y_labels.index]\n",
    "print(clinical.shape[0])\n",
    "\n",
    "clinical.dropna(inplace = True)\n",
    "print(\"Removing NaN rows leaves \",clinical.shape[0],\" obersvations in the feature set.\")\n",
    "\n",
    "y_labels = y_labels.loc[clinical.index] #remove metastasis labels where no clinical data now exists due to NaN removal."
   ]
  },
  {
   "cell_type": "code",
   "execution_count": 21,
   "metadata": {
    "collapsed": false
   },
   "outputs": [
    {
     "name": "stdout",
     "output_type": "stream",
     "text": [
      "                            Feature  Gini_Importance\n",
      "0  dateofinitialpathologicdiagnosis         0.216585\n",
      "1                      gleasonscore         0.274530\n",
      "2                          psavalue         0.234825\n",
      "3                      yearstobirth         0.215980\n",
      "4                 race_Not_provided         0.018170\n",
      "5                        race_asian         0.000000\n",
      "6                  race_black_or_AA         0.017460\n",
      "7                        race_white         0.022449\n"
     ]
    }
   ],
   "source": [
    "from sklearn.tree import DecisionTreeClassifier\n",
    "\n",
    "clf = DecisionTreeClassifier(criterion='gini',\n",
    "                            splitter='best',\n",
    "                            max_depth=None,\n",
    "                            min_samples_split=2,\n",
    "                            min_samples_leaf=1,\n",
    "                            min_weight_fraction_leaf=0.0,\n",
    "                            max_features=None,\n",
    "                            random_state=None,\n",
    "                            max_leaf_nodes=None,\n",
    "                            class_weight='balanced',\n",
    "                            presort=False)\n",
    "\n",
    "clf.fit(clinical, y_labels)\n",
    "print(pd.DataFrame({\"Feature\" : clinical.columns, \"Gini_Importance\": clf.feature_importances_} ))"
   ]
  },
  {
   "cell_type": "code",
   "execution_count": 23,
   "metadata": {
    "collapsed": false
   },
   "outputs": [],
   "source": [
    "from sklearn.metrics import recall_score"
   ]
  },
  {
   "cell_type": "code",
   "execution_count": 26,
   "metadata": {
    "collapsed": false
   },
   "outputs": [
    {
     "data": {
      "text/plain": [
       "1.0"
      ]
     },
     "execution_count": 26,
     "metadata": {},
     "output_type": "execute_result"
    }
   ],
   "source": [
    "recall_score(y_labels, clf.predict(clinical), labels=None, pos_label='n1', average='binary', sample_weight=None)"
   ]
  },
  {
   "cell_type": "code",
   "execution_count": null,
   "metadata": {
    "collapsed": true
   },
   "outputs": [],
   "source": []
  }
 ],
 "metadata": {
  "kernelspec": {
   "display_name": "Python 3",
   "language": "python",
   "name": "python3"
  },
  "language_info": {
   "codemirror_mode": {
    "name": "ipython",
    "version": 3
   },
   "file_extension": ".py",
   "mimetype": "text/x-python",
   "name": "python",
   "nbconvert_exporter": "python",
   "pygments_lexer": "ipython3",
   "version": "3.5.1"
  }
 },
 "nbformat": 4,
 "nbformat_minor": 0
}
