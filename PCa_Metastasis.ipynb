{
 "cells": [
  {
   "cell_type": "code",
   "execution_count": 1,
   "metadata": {
    "collapsed": false,
    "scrolled": false
   },
   "outputs": [
    {
     "name": "stdout",
     "output_type": "stream",
     "text": [
      "Clinical data set imported\n",
      "\n",
      "\n",
      " The following features do not provide any information: \n",
      " ['Composite.Element.REF' 'ethnicity' 'gender' 'pathologicstage'\n",
      " 'pathologyMstage' 'tumortissuesite'] \n",
      "\n",
      "\n",
      "\n",
      " Variables that are not known at initial diagnosis: \n",
      " ['daystodeath' 'daystolastfollowup' 'daystopsa' 'histologicaltype'\n",
      " 'numberoflymphnodes' 'pathologyTstage' 'radiationtherapy' 'residualtumor'\n",
      " 'vitalstatus'] \n",
      "\n",
      "\n",
      "Variables that are known at the time of diagnosis:\n",
      " ['dateofinitialpathologicdiagnosis' 'gleasonscore' 'psavalue' 'race'\n",
      " 'yearstobirth']\n",
      "\n",
      "Dimensions of clinical dataframe: (499, 5)\n"
     ]
    }
   ],
   "source": [
    "%run Dataset_cleanup/cleanup_clinical.py"
   ]
  },
  {
   "cell_type": "code",
   "execution_count": 6,
   "metadata": {
    "collapsed": false
   },
   "outputs": [
    {
     "name": "stdout",
     "output_type": "stream",
     "text": [
      "dateofinitialpathologicdiagnosis    float64\n",
      "gleasonscore                        float64\n",
      "psavalue                            float64\n",
      "race                                 object\n",
      "yearstobirth                        float64\n",
      "dtype: object \n",
      "\n",
      "\n",
      "                dateofinitialpathologicdiagnosis  gleasonscore  psavalue  \\\n",
      "clinical_index                                                             \n",
      "TCGA-CH-5753                              2008.0           9.0      4.53   \n",
      "TCGA-CH-5763                              2008.0           7.0      0.10   \n",
      "TCGA-CH-5764                              2008.0           7.0     13.95   \n",
      "TCGA-CH-5772                              2008.0           9.0      0.03   \n",
      "TCGA-CH-5790                              2006.0           7.0      0.10   \n",
      "\n",
      "                 race  yearstobirth  \n",
      "clinical_index                       \n",
      "TCGA-CH-5753    white          70.0  \n",
      "TCGA-CH-5763    white          66.0  \n",
      "TCGA-CH-5764    white          66.0  \n",
      "TCGA-CH-5772    white          63.0  \n",
      "TCGA-CH-5790    white          64.0  \n",
      "\n",
      "\n",
      "        dateofinitialpathologicdiagnosis  gleasonscore    psavalue  \\\n",
      "count                        468.000000    499.000000  442.000000   \n",
      "mean                        2010.027778      7.611222    1.745817   \n",
      "std                            2.360742      1.008575   15.824518   \n",
      "min                         2000.000000      6.000000    0.000000   \n",
      "25%                                 NaN      7.000000         NaN   \n",
      "50%                                 NaN      7.000000         NaN   \n",
      "75%                                 NaN      9.000000         NaN   \n",
      "max                         2013.000000     10.000000  323.000000   \n",
      "\n",
      "       yearstobirth  \n",
      "count    488.000000  \n",
      "mean      61.008197  \n",
      "std        6.809519  \n",
      "min       41.000000  \n",
      "25%             NaN  \n",
      "50%             NaN  \n",
      "75%             NaN  \n",
      "max       78.000000  \n",
      "\n",
      "\n",
      " count      499\n",
      "unique       4\n",
      "top       None\n",
      "freq       343\n",
      "Name: race, dtype: object\n"
     ]
    },
    {
     "name": "stderr",
     "output_type": "stream",
     "text": [
      "/Users/ccthomps/anaconda/lib/python3.5/site-packages/numpy/lib/function_base.py:3823: RuntimeWarning: Invalid value encountered in percentile\n",
      "  RuntimeWarning)\n"
     ]
    }
   ],
   "source": [
    "print(clinical.dtypes,\"\\n\\n\")\n",
    "print(clinical.head())\n",
    "print(\"\\n\\n\",clinical.describe())\n",
    "print(\"\\n\\n\",clinical['race'].describe())"
   ]
  },
  {
   "cell_type": "code",
   "execution_count": null,
   "metadata": {
    "collapsed": false
   },
   "outputs": [],
   "source": [
    "%run Dataset_cleanup/cleanup_gene_counts.py"
   ]
  },
  {
   "cell_type": "markdown",
   "metadata": {},
   "source": [
    "## Analysis of initial clinical presentation for  predictors of metastasis"
   ]
  },
  {
   "cell_type": "code",
   "execution_count": null,
   "metadata": {
    "collapsed": false
   },
   "outputs": [],
   "source": [
    "from sklearn.tree import DecisionTreeClassifier\n",
    "\n",
    "clf = DecisionTreeClassifier(criterion='gini',\n",
    "                            splitter='best',\n",
    "                            max_depth=None,\n",
    "                            min_samples_split=2,\n",
    "                            min_samples_leaf=1,\n",
    "                            min_weight_fraction_leaf=0.0,\n",
    "                            max_features=None,\n",
    "                            random_state=None,\n",
    "                            max_leaf_nodes=None,\n",
    "                            class_weight='balanced',\n",
    "                            presort=False)\n",
    "\n",
    "clf.fit(clinical, y)\n",
    "print(clf.tree_)"
   ]
  },
  {
   "cell_type": "raw",
   "metadata": {},
   "source": []
  }
 ],
 "metadata": {
  "kernelspec": {
   "display_name": "Python 3",
   "language": "python",
   "name": "python3"
  },
  "language_info": {
   "codemirror_mode": {
    "name": "ipython",
    "version": 3
   },
   "file_extension": ".py",
   "mimetype": "text/x-python",
   "name": "python",
   "nbconvert_exporter": "python",
   "pygments_lexer": "ipython3",
   "version": "3.5.1"
  }
 },
 "nbformat": 4,
 "nbformat_minor": 0
}
