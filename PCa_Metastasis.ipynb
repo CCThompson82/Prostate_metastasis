{
 "cells": [
  {
   "cell_type": "code",
   "execution_count": 2,
   "metadata": {
    "collapsed": false,
    "scrolled": true
   },
   "outputs": [
    {
     "name": "stdout",
     "output_type": "stream",
     "text": [
      "Clinical data set imported\n",
      "\n",
      "\n",
      " The following features do not provide any information: \n",
      " ['Composite.Element.REF' 'ethnicity' 'gender' 'pathologicstage'\n",
      " 'pathologyMstage' 'tumortissuesite'] \n",
      "\n",
      "\n",
      "\n",
      " Variables that are not known at initial diagnosis: \n",
      " ['daystodeath' 'daystolastfollowup' 'daystopsa' 'gleasonscore'\n",
      " 'histologicaltype' 'numberoflymphnodes' 'pathologyTstage'\n",
      " 'radiationtherapy' 'residualtumor' 'vitalstatus'] \n",
      "\n",
      "\n",
      "Variables that are known at the time of diagnosis:\n",
      " ['dateofinitialpathologicdiagnosis' 'psavalue' 'race' 'yearstobirth']\n",
      "\n",
      "Dimensions of clinical dataframe: (499, 7)\n"
     ]
    }
   ],
   "source": [
    "%run Dataset_cleanup/cleanup_clinical.py"
   ]
  },
  {
   "cell_type": "code",
   "execution_count": 3,
   "metadata": {
    "collapsed": false
   },
   "outputs": [
    {
     "name": "stdout",
     "output_type": "stream",
     "text": [
      "Gene Counts data set imported\n",
      "\n",
      "Dimension of DataFrame: (550, 20501)\n",
      "\n",
      "Transformation Successful!\n",
      "\n",
      "Transcript abundance estimates have been transformed to transcripts per million reads\n"
     ]
    }
   ],
   "source": [
    "%run Dataset_cleanup/cleanup_gene_counts.py"
   ]
  },
  {
   "cell_type": "markdown",
   "metadata": {},
   "source": [
    "## Analysis of initial clinical presentation for  predictors of metastasis"
   ]
  },
  {
   "cell_type": "code",
   "execution_count": 4,
   "metadata": {
    "collapsed": false
   },
   "outputs": [
    {
     "name": "stdout",
     "output_type": "stream",
     "text": [
      "Total observations in original dataset: 499\n",
      "\n",
      "Labeled observations: 426 \n",
      "Unlabeled observations removed: 73\n"
     ]
    }
   ],
   "source": [
    "\"\"\"The Clinical data (including metastasis label) have a multitude of missing items.\"\"\"\n",
    "print(\"Total observations in original dataset:\",clinical.shape[0])\n",
    "\n",
    "not_labeled = y[y.isnull()]\n",
    "y_labels = y[y.notnull()]\n",
    "\n",
    "print(\"\\nLabeled observations:\",y_labels.shape[0],\"\\nUnlabeled observations removed:\",not_labeled.shape[0])\n"
   ]
  },
  {
   "cell_type": "code",
   "execution_count": 5,
   "metadata": {
    "collapsed": false
   },
   "outputs": [
    {
     "name": "stdout",
     "output_type": "stream",
     "text": [
      "Filtering out missing metastasis state labels left 426 observations\n",
      "Removing NaN rows leaves  359  observations in the feature set.\n"
     ]
    }
   ],
   "source": [
    "clinical = clinical.loc[y_labels.index]  #filter only observations where metastasis state is known\n",
    "print(\"Filtering out missing metastasis state labels left\",clinical.shape[0],\"observations\")\n",
    "\n",
    "clinical.dropna(inplace = True) # Remove all observations where clinical data is missing\n",
    "print(\"Removing NaN rows leaves \",clinical.shape[0],\" observations in the feature set.\") \n",
    "\n",
    "y_labels = y_labels.loc[clinical.index] #remove metastasis labels where no clinical data now exists due to NaN removal."
   ]
  },
  {
   "cell_type": "code",
   "execution_count": 14,
   "metadata": {
    "collapsed": true
   },
   "outputs": [],
   "source": [
    "from sklearn.tree import DecisionTreeClassifier\n",
    "from sklearn.cross_validation import cross_val_score\n",
    "from sklearn.metrics import recall_score\n",
    "from sklearn.metrics import make_scorer, accuracy_score"
   ]
  },
  {
   "cell_type": "code",
   "execution_count": 16,
   "metadata": {
    "collapsed": false
   },
   "outputs": [
    {
     "name": "stdout",
     "output_type": "stream",
     "text": [
      "The recall value for metastasis detection using a simple Decision Tree on patient information that is known at the onset of diagnosis is:\n",
      "0.409523809524\n",
      "The accuracy score for metasasis vs no metastasis is:\n",
      " 0.511610896611\n",
      "\n",
      "The null error rate for metastasis detection on this dataset is:\n",
      "0.16991643454\n"
     ]
    }
   ],
   "source": [
    "recaller = make_scorer(recall_score, greater_is_better=True, needs_proba=False, needs_threshold=False, pos_label='n1')\n",
    "accuracy = make_scorer(accuracy_score, greater_is_better=True, needs_proba=False, needs_threshold=False)\n",
    "clf = DecisionTreeClassifier(criterion='gini',\n",
    "                            splitter='best',\n",
    "                            max_depth=None,\n",
    "                            min_samples_split=30,\n",
    "                            min_samples_leaf=1,\n",
    "                            min_weight_fraction_leaf=0.0,\n",
    "                            max_features=None,\n",
    "                            random_state=None,\n",
    "                            max_leaf_nodes=None,\n",
    "                            class_weight='balanced',\n",
    "                            presort=False)\n",
    "recall_vals = cross_val_score(clf, clinical, y_labels, scoring=recaller, cv=10)\n",
    "accuracy_vals = cross_val_score(clf, clinical, y_labels, scoring=accuracy, cv=10)\n",
    "print('The recall value for metastasis detection using a simple Decision Tree on patient information that is known at the onset of diagnosis is:')\n",
    "print(recall_vals.mean())\n",
    "print('The accuracy score for metasasis vs no metastasis is:\\n',accuracy_vals.mean())\n",
    "print(\"\\nThe null error rate for metastasis detection on this dataset is:\")\n",
    "print((sum(y_labels == 'n1') / len(y_labels)))"
   ]
  },
  {
   "cell_type": "code",
   "execution_count": 17,
   "metadata": {
    "collapsed": false
   },
   "outputs": [
    {
     "name": "stdout",
     "output_type": "stream",
     "text": [
      "                           Features  Gini_Importance\n",
      "0  dateofinitialpathologicdiagnosis         0.271084\n",
      "1                          psavalue         0.306299\n",
      "2                      yearstobirth         0.339317\n",
      "3                 race_Not_provided         0.000000\n",
      "4                        race_asian         0.000000\n",
      "5                  race_black_or_AA         0.000000\n",
      "6                        race_white         0.083300\n"
     ]
    }
   ],
   "source": [
    "clf.fit(clinical, y_labels)\n",
    "print(pd.DataFrame({'Features':clinical.columns, 'Gini_Importance':clf.feature_importances_}))"
   ]
  },
  {
   "cell_type": "code",
   "execution_count": null,
   "metadata": {
    "collapsed": false
   },
   "outputs": [],
   "source": []
  },
  {
   "cell_type": "code",
   "execution_count": null,
   "metadata": {
    "collapsed": false
   },
   "outputs": [],
   "source": []
  },
  {
   "cell_type": "code",
   "execution_count": null,
   "metadata": {
    "collapsed": true
   },
   "outputs": [],
   "source": []
  }
 ],
 "metadata": {
  "kernelspec": {
   "display_name": "Python 3",
   "language": "python",
   "name": "python3"
  },
  "language_info": {
   "codemirror_mode": {
    "name": "ipython",
    "version": 3
   },
   "file_extension": ".py",
   "mimetype": "text/x-python",
   "name": "python",
   "nbconvert_exporter": "python",
   "pygments_lexer": "ipython3",
   "version": "3.5.1"
  }
 },
 "nbformat": 4,
 "nbformat_minor": 0
}
