{
 "cells": [
  {
   "cell_type": "code",
   "execution_count": 1,
   "metadata": {
    "collapsed": false,
    "scrolled": true
   },
   "outputs": [
    {
     "ename": "FeatherError",
     "evalue": "IO error: Unable to open file",
     "output_type": "error",
     "traceback": [
      "\u001b[0;31m---------------------------------------------------------------------------\u001b[0m",
      "\u001b[0;31mFeatherError\u001b[0m                              Traceback (most recent call last)",
      "\u001b[0;32m/Users/ccthomps/Documents/Python Files/Udacity Projects/capstone/Dataset_cleanup/cleanup_clinical.py\u001b[0m in \u001b[0;36m<module>\u001b[0;34m()\u001b[0m\n\u001b[1;32m     10\u001b[0m \u001b[0;34m\u001b[0m\u001b[0m\n\u001b[1;32m     11\u001b[0m \u001b[0;31m#Import feather files that were downloaded and saved using TCGA2STAT package in R:\u001b[0m\u001b[0;34m\u001b[0m\u001b[0;34m\u001b[0m\u001b[0m\n\u001b[0;32m---> 12\u001b[0;31m \u001b[0mclinical\u001b[0m \u001b[0;34m=\u001b[0m \u001b[0mfeather\u001b[0m\u001b[0;34m.\u001b[0m\u001b[0mread_dataframe\u001b[0m\u001b[0;34m(\u001b[0m\u001b[0;34m'Clinical_data.feather'\u001b[0m\u001b[0;34m)\u001b[0m\u001b[0;34m\u001b[0m\u001b[0m\n\u001b[0m\u001b[1;32m     13\u001b[0m \u001b[0;34m\u001b[0m\u001b[0m\n\u001b[1;32m     14\u001b[0m \u001b[0;31m#Check data import:\u001b[0m\u001b[0;34m\u001b[0m\u001b[0;34m\u001b[0m\u001b[0m\n",
      "\u001b[0;32m/Users/ccthomps/anaconda/lib/python3.5/site-packages/feather/api.py\u001b[0m in \u001b[0;36mread_dataframe\u001b[0;34m(path, columns)\u001b[0m\n\u001b[1;32m     46\u001b[0m     \u001b[0mdf\u001b[0m \u001b[0;34m:\u001b[0m \u001b[0mpandas\u001b[0m\u001b[0;34m.\u001b[0m\u001b[0mDataFrame\u001b[0m\u001b[0;34m\u001b[0m\u001b[0m\n\u001b[1;32m     47\u001b[0m     \"\"\"\n\u001b[0;32m---> 48\u001b[0;31m     \u001b[0mreader\u001b[0m \u001b[0;34m=\u001b[0m \u001b[0mext\u001b[0m\u001b[0;34m.\u001b[0m\u001b[0mFeatherReader\u001b[0m\u001b[0;34m(\u001b[0m\u001b[0mpath\u001b[0m\u001b[0;34m)\u001b[0m\u001b[0;34m\u001b[0m\u001b[0m\n\u001b[0m\u001b[1;32m     49\u001b[0m \u001b[0;34m\u001b[0m\u001b[0m\n\u001b[1;32m     50\u001b[0m     \u001b[0;31m# TODO(wesm): pipeline conversion to Arrow memory layout\u001b[0m\u001b[0;34m\u001b[0m\u001b[0;34m\u001b[0m\u001b[0m\n",
      "\u001b[0;32m/Users/ccthomps/anaconda/lib/python3.5/site-packages/feather/ext.pyx\u001b[0m in \u001b[0;36mfeather.ext.FeatherReader.__cinit__ (feather/ext.cpp:3023)\u001b[0;34m()\u001b[0m\n",
      "\u001b[0;32m/Users/ccthomps/anaconda/lib/python3.5/site-packages/feather/ext.pyx\u001b[0m in \u001b[0;36mfeather.ext.check_status (feather/ext.cpp:1546)\u001b[0;34m()\u001b[0m\n",
      "\u001b[0;31mFeatherError\u001b[0m: IO error: Unable to open file"
     ]
    }
   ],
   "source": [
    "%run Dataset_cleanup/cleanup_clinical.py"
   ]
  },
  {
   "cell_type": "code",
   "execution_count": null,
   "metadata": {
    "collapsed": false
   },
   "outputs": [],
   "source": [
    "%run Dataset_cleanup/cleanup_gene_counts.py"
   ]
  },
  {
   "cell_type": "markdown",
   "metadata": {},
   "source": [
    "## Benchmark Analysis of initial clinical presentation for  predictors of metastasis"
   ]
  },
  {
   "cell_type": "code",
   "execution_count": null,
   "metadata": {
    "collapsed": false
   },
   "outputs": [],
   "source": [
    "\"\"\"The Clinical data (including metastasis label) have a multitude of missing items.\"\"\"\n",
    "print(\"Total observations in original dataset:\",clinical.shape[0])\n",
    "\n",
    "not_labeled = y[y.isnull()]\n",
    "y_labels = y[y.notnull()]\n",
    "\n",
    "print(\"\\nLabeled observations:\",y_labels.shape[0],\"\\nUnlabeled observations removed:\",not_labeled.shape[0])\n"
   ]
  },
  {
   "cell_type": "code",
   "execution_count": null,
   "metadata": {
    "collapsed": false
   },
   "outputs": [],
   "source": [
    "clinical = clinical.loc[y_labels.index]  #filter only observations where metastasis state is known\n",
    "print(\"Filtering out missing metastasis state labels left\",clinical.shape[0],\"observations\")\n",
    "\n",
    "clinical.dropna(inplace = True) # Remove all observations where clinical data is missing\n",
    "print(\"Removing NaN rows leaves \",clinical.shape[0],\" observations in the feature set.\") \n",
    "\n",
    "y_labels_NAdrop = y_labels.loc[clinical.index] #remove metastasis labels where no clinical data now exists due to NaN removal."
   ]
  },
  {
   "cell_type": "code",
   "execution_count": null,
   "metadata": {
    "collapsed": true
   },
   "outputs": [],
   "source": [
    "from sklearn.tree import DecisionTreeClassifier\n",
    "from sklearn.cross_validation import cross_val_score\n",
    "from sklearn.metrics import recall_score\n",
    "from sklearn.metrics import make_scorer, accuracy_score"
   ]
  },
  {
   "cell_type": "code",
   "execution_count": null,
   "metadata": {
    "collapsed": false
   },
   "outputs": [],
   "source": [
    "recaller = make_scorer(recall_score, greater_is_better=True, needs_proba=False, needs_threshold=False, pos_label='n1')\n",
    "accuracy = make_scorer(accuracy_score, greater_is_better=True, needs_proba=False, needs_threshold=False)\n",
    "clf = DecisionTreeClassifier(criterion='gini',\n",
    "                            splitter='best',\n",
    "                            max_depth=None,\n",
    "                            min_samples_split=30,\n",
    "                            min_samples_leaf=1,\n",
    "                            min_weight_fraction_leaf=0.0,\n",
    "                            max_features=None,\n",
    "                            random_state=None,\n",
    "                            max_leaf_nodes=None,\n",
    "                            class_weight='balanced', #avoids the classifier being rewarded for choosing the most prevelant class each instance (n0)\n",
    "                            presort=False)\n",
    "recall_vals = cross_val_score(clf, clinical, y_labels_NAdrop, scoring=recaller, cv=5)\n",
    "accuracy_vals = cross_val_score(clf, clinical, y_labels_NAdrop, scoring=accuracy, cv=5)\n",
    "print('Recall_n1:  ',recall_vals.mean())\n",
    "\n",
    "print('\\nModel Accuracy score:  ',accuracy_vals.mean())\n",
    "print(\"\\nNull error rate for metastasis:  \",(sum(y_labels == 'n1') / len(y_labels)))"
   ]
  },
  {
   "cell_type": "markdown",
   "metadata": {
    "collapsed": false
   },
   "source": [
    "## Exploratory Analysis using Gene TPM counts as predictors of Metastasis"
   ]
  },
  {
   "cell_type": "markdown",
   "metadata": {},
   "source": [
    "### Wrangle TPM counts DF"
   ]
  },
  {
   "cell_type": "code",
   "execution_count": null,
   "metadata": {
    "collapsed": false
   },
   "outputs": [],
   "source": [
    "print(gene_counts.index)"
   ]
  },
  {
   "cell_type": "code",
   "execution_count": null,
   "metadata": {
    "collapsed": false
   },
   "outputs": [],
   "source": [
    "\n",
    "print(gene_counts.shape)\n",
    "print(len(y_labels.index))\n",
    "X = gene_counts.loc[list(y_labels.index)]\n",
    "print(X.shape)\n"
   ]
  },
  {
   "cell_type": "code",
   "execution_count": null,
   "metadata": {
    "collapsed": false
   },
   "outputs": [],
   "source": [
    "\"\"\"How can the length of X be larger than the index of y_labels which were used to select X?!  Must be duplicates, but\n",
    "I thought index names had to be unique.\"\"\"\n",
    "\n",
    "seen = set()\n",
    "uniq = []\n",
    "for x in X.index:\n",
    "    if x not in seen:\n",
    "        uniq.append(x)\n",
    "        seen.add(x)\n",
    "    else:\n",
    "        print(x)"
   ]
  },
  {
   "cell_type": "markdown",
   "metadata": {
    "collapsed": false
   },
   "source": [
    "### Feature Reduction"
   ]
  },
  {
   "cell_type": "code",
   "execution_count": null,
   "metadata": {
    "collapsed": false
   },
   "outputs": [],
   "source": [
    "from sklearn.feature_selection import SelectKBest, f_classif"
   ]
  },
  {
   "cell_type": "code",
   "execution_count": null,
   "metadata": {
    "collapsed": true
   },
   "outputs": [],
   "source": [
    "#selector = SelectKBest(f_classif, k = )"
   ]
  }
 ],
 "metadata": {
  "kernelspec": {
   "display_name": "Python 3",
   "language": "python",
   "name": "python3"
  },
  "language_info": {
   "codemirror_mode": {
    "name": "ipython",
    "version": 3
   },
   "file_extension": ".py",
   "mimetype": "text/x-python",
   "name": "python",
   "nbconvert_exporter": "python",
   "pygments_lexer": "ipython3",
   "version": "3.5.1"
  }
 },
 "nbformat": 4,
 "nbformat_minor": 0
}
